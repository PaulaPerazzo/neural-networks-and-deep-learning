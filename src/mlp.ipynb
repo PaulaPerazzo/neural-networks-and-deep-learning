{
 "cells": [
  {
   "cell_type": "markdown",
   "id": "5a92a150-9d91-4f53-9e4d-11955b021bee",
   "metadata": {},
   "source": [
    "# Install the dependencies"
   ]
  },
  {
   "cell_type": "code",
   "execution_count": null,
   "id": "76890036-0ba4-4b2d-893a-5098b22d65ac",
   "metadata": {},
   "outputs": [],
   "source": []
  },
  {
   "cell_type": "markdown",
   "id": "fe51091b-8c3d-4a66-82f3-7cc725d14780",
   "metadata": {},
   "source": [
    "# Import the dependencies"
   ]
  },
  {
   "cell_type": "code",
   "execution_count": 161,
   "id": "59ffba46-c2df-4fc5-9c35-abde0bb72e2e",
   "metadata": {},
   "outputs": [],
   "source": [
    "from sklearn.neural_network import MLPClassifier\n",
    "from sklearn.datasets import fetch_openml\n",
    "from sklearn.model_selection import train_test_split\n",
    "from sklearn.metrics import accuracy_score\n",
    "\n",
    "import pandas as pd\n",
    "import matplotlib.pyplot as plt"
   ]
  },
  {
   "cell_type": "markdown",
   "id": "8cbdd218-43e2-4058-b4ff-060accbf6630",
   "metadata": {},
   "source": [
    "# Load the dataset digits"
   ]
  },
  {
   "cell_type": "code",
   "execution_count": 89,
   "id": "437c34d0-aa0c-4403-8b78-bf0eaffecb60",
   "metadata": {},
   "outputs": [
    {
     "name": "stderr",
     "output_type": "stream",
     "text": [
      "C:\\Users\\mpps\\anaconda3\\Lib\\site-packages\\sklearn\\datasets\\_openml.py:968: FutureWarning: The default value of `parser` will change from `'liac-arff'` to `'auto'` in 1.4. You can set `parser='auto'` to silence this warning. Therefore, an `ImportError` will be raised from 1.4 if the dataset is dense and pandas is not installed. Note that the pandas parser may return different data types. See the Notes Section in fetch_openml's API doc for details.\n",
      "  warn(\n"
     ]
    }
   ],
   "source": [
    "digits = fetch_openml('mnist_784')"
   ]
  },
  {
   "cell_type": "markdown",
   "id": "7e3fa6cc-88fa-460d-a2d0-0c078617da05",
   "metadata": {},
   "source": [
    "# Divide the data"
   ]
  },
  {
   "cell_type": "code",
   "execution_count": 95,
   "id": "f190711c-1f3f-41a9-b580-913aaa5b4250",
   "metadata": {},
   "outputs": [],
   "source": [
    "### divide to get train and test data with train_test_split() ###\n",
    "X_train, X_test, y_train, y_test = train_test_split((digits.data/255), digits.target, test_size=0.3)"
   ]
  },
  {
   "cell_type": "markdown",
   "id": "dcb91b1f-181c-416c-9d3d-64272c820665",
   "metadata": {},
   "source": [
    "# Create and train the model"
   ]
  },
  {
   "cell_type": "markdown",
   "id": "6c404a84-a1d3-4560-9ecd-791b17108079",
   "metadata": {},
   "source": [
    "## Test 1 \n",
    "- One hidden layer\n",
    "- 100 neurons\n",
    "- 60 epochs\n",
    "- Learning rate = 0.1\n",
    "- Batch size = 10\n",
    "- No regularization\n",
    "- No dropout\n"
   ]
  },
  {
   "cell_type": "code",
   "execution_count": 157,
   "id": "7b52f0ae-b457-4532-bcba-f713568da0d5",
   "metadata": {},
   "outputs": [],
   "source": [
    "### first create the MLP model with the MLP classifier from skit-learn\n",
    "\n",
    "mlp = MLPClassifier(\n",
    "    hidden_layer_sizes=(100,),  # here is the number of nodes and hidden layers\n",
    "    max_iter=60,                # number of trainning steps\n",
    "    solver='sgd',               # optimization algorithm, stochastic gradient descent\n",
    "    verbose=10,                 # quantity of trainning output\n",
    "    learning_rate_init=0.1,     # initial learning_rate, updates network weights\n",
    "    batch_size=10,              # batch size of trainning\n",
    "    random_state=1\n",
    ")"
   ]
  },
  {
   "cell_type": "code",
   "execution_count": 158,
   "id": "615720ee-f52e-40b6-8ebe-e62ec63499c3",
   "metadata": {},
   "outputs": [
    {
     "name": "stdout",
     "output_type": "stream",
     "text": [
      "Iteration 1, loss = 1.07788106\n",
      "Iteration 2, loss = 1.25970852\n",
      "Iteration 3, loss = 1.19589882\n",
      "Iteration 4, loss = 1.26906618\n",
      "Iteration 5, loss = 1.29825671\n",
      "Iteration 6, loss = 1.44913275\n",
      "Iteration 7, loss = 1.39136293\n",
      "Iteration 8, loss = 1.46936882\n",
      "Iteration 9, loss = 1.52863305\n",
      "Iteration 10, loss = 1.49264735\n",
      "Iteration 11, loss = 1.56743768\n",
      "Iteration 12, loss = 1.50283710\n",
      "Training loss did not improve more than tol=0.000100 for 10 consecutive epochs. Stopping.\n"
     ]
    },
    {
     "data": {
      "text/html": [
       "<style>#sk-container-id-45 {color: black;background-color: white;}#sk-container-id-45 pre{padding: 0;}#sk-container-id-45 div.sk-toggleable {background-color: white;}#sk-container-id-45 label.sk-toggleable__label {cursor: pointer;display: block;width: 100%;margin-bottom: 0;padding: 0.3em;box-sizing: border-box;text-align: center;}#sk-container-id-45 label.sk-toggleable__label-arrow:before {content: \"▸\";float: left;margin-right: 0.25em;color: #696969;}#sk-container-id-45 label.sk-toggleable__label-arrow:hover:before {color: black;}#sk-container-id-45 div.sk-estimator:hover label.sk-toggleable__label-arrow:before {color: black;}#sk-container-id-45 div.sk-toggleable__content {max-height: 0;max-width: 0;overflow: hidden;text-align: left;background-color: #f0f8ff;}#sk-container-id-45 div.sk-toggleable__content pre {margin: 0.2em;color: black;border-radius: 0.25em;background-color: #f0f8ff;}#sk-container-id-45 input.sk-toggleable__control:checked~div.sk-toggleable__content {max-height: 200px;max-width: 100%;overflow: auto;}#sk-container-id-45 input.sk-toggleable__control:checked~label.sk-toggleable__label-arrow:before {content: \"▾\";}#sk-container-id-45 div.sk-estimator input.sk-toggleable__control:checked~label.sk-toggleable__label {background-color: #d4ebff;}#sk-container-id-45 div.sk-label input.sk-toggleable__control:checked~label.sk-toggleable__label {background-color: #d4ebff;}#sk-container-id-45 input.sk-hidden--visually {border: 0;clip: rect(1px 1px 1px 1px);clip: rect(1px, 1px, 1px, 1px);height: 1px;margin: -1px;overflow: hidden;padding: 0;position: absolute;width: 1px;}#sk-container-id-45 div.sk-estimator {font-family: monospace;background-color: #f0f8ff;border: 1px dotted black;border-radius: 0.25em;box-sizing: border-box;margin-bottom: 0.5em;}#sk-container-id-45 div.sk-estimator:hover {background-color: #d4ebff;}#sk-container-id-45 div.sk-parallel-item::after {content: \"\";width: 100%;border-bottom: 1px solid gray;flex-grow: 1;}#sk-container-id-45 div.sk-label:hover label.sk-toggleable__label {background-color: #d4ebff;}#sk-container-id-45 div.sk-serial::before {content: \"\";position: absolute;border-left: 1px solid gray;box-sizing: border-box;top: 0;bottom: 0;left: 50%;z-index: 0;}#sk-container-id-45 div.sk-serial {display: flex;flex-direction: column;align-items: center;background-color: white;padding-right: 0.2em;padding-left: 0.2em;position: relative;}#sk-container-id-45 div.sk-item {position: relative;z-index: 1;}#sk-container-id-45 div.sk-parallel {display: flex;align-items: stretch;justify-content: center;background-color: white;position: relative;}#sk-container-id-45 div.sk-item::before, #sk-container-id-45 div.sk-parallel-item::before {content: \"\";position: absolute;border-left: 1px solid gray;box-sizing: border-box;top: 0;bottom: 0;left: 50%;z-index: -1;}#sk-container-id-45 div.sk-parallel-item {display: flex;flex-direction: column;z-index: 1;position: relative;background-color: white;}#sk-container-id-45 div.sk-parallel-item:first-child::after {align-self: flex-end;width: 50%;}#sk-container-id-45 div.sk-parallel-item:last-child::after {align-self: flex-start;width: 50%;}#sk-container-id-45 div.sk-parallel-item:only-child::after {width: 0;}#sk-container-id-45 div.sk-dashed-wrapped {border: 1px dashed gray;margin: 0 0.4em 0.5em 0.4em;box-sizing: border-box;padding-bottom: 0.4em;background-color: white;}#sk-container-id-45 div.sk-label label {font-family: monospace;font-weight: bold;display: inline-block;line-height: 1.2em;}#sk-container-id-45 div.sk-label-container {text-align: center;}#sk-container-id-45 div.sk-container {/* jupyter's `normalize.less` sets `[hidden] { display: none; }` but bootstrap.min.css set `[hidden] { display: none !important; }` so we also need the `!important` here to be able to override the default hidden behavior on the sphinx rendered scikit-learn.org. See: https://github.com/scikit-learn/scikit-learn/issues/21755 */display: inline-block !important;position: relative;}#sk-container-id-45 div.sk-text-repr-fallback {display: none;}</style><div id=\"sk-container-id-45\" class=\"sk-top-container\"><div class=\"sk-text-repr-fallback\"><pre>MLPClassifier(batch_size=10, learning_rate_init=0.1, max_iter=60,\n",
       "              random_state=1, solver=&#x27;sgd&#x27;, verbose=10)</pre><b>In a Jupyter environment, please rerun this cell to show the HTML representation or trust the notebook. <br />On GitHub, the HTML representation is unable to render, please try loading this page with nbviewer.org.</b></div><div class=\"sk-container\" hidden><div class=\"sk-item\"><div class=\"sk-estimator sk-toggleable\"><input class=\"sk-toggleable__control sk-hidden--visually\" id=\"sk-estimator-id-45\" type=\"checkbox\" checked><label for=\"sk-estimator-id-45\" class=\"sk-toggleable__label sk-toggleable__label-arrow\">MLPClassifier</label><div class=\"sk-toggleable__content\"><pre>MLPClassifier(batch_size=10, learning_rate_init=0.1, max_iter=60,\n",
       "              random_state=1, solver=&#x27;sgd&#x27;, verbose=10)</pre></div></div></div></div></div>"
      ],
      "text/plain": [
       "MLPClassifier(batch_size=10, learning_rate_init=0.1, max_iter=60,\n",
       "              random_state=1, solver='sgd', verbose=10)"
      ]
     },
     "execution_count": 158,
     "metadata": {},
     "output_type": "execute_result"
    }
   ],
   "source": [
    "mlp.fit(X_train, y_train)  # trainning the data"
   ]
  },
  {
   "cell_type": "code",
   "execution_count": 156,
   "id": "362a56c0-9aa7-4688-b357-74b36f8f4f5f",
   "metadata": {},
   "outputs": [
    {
     "name": "stdout",
     "output_type": "stream",
     "text": [
      "Acurácia do MLP: 30.99%\n"
     ]
    }
   ],
   "source": [
    "predictions = mlp.predict(X_test)\n",
    "accuracy = accuracy_score(y_test, predictions)\n",
    "print(\"Acurácia do MLP: {:.2f}%\".format(accuracy * 100))"
   ]
  },
  {
   "cell_type": "code",
   "execution_count": 162,
   "id": "9af00505-7b89-4357-b8da-7cd5334cabd2",
   "metadata": {},
   "outputs": [
    {
     "data": {
      "text/plain": [
       "[<matplotlib.lines.Line2D at 0x1ed042d5390>]"
      ]
     },
     "execution_count": 162,
     "metadata": {},
     "output_type": "execute_result"
    },
    {
     "data": {
      "image/png": "[encoded data removed]",
      "text/plain": [
       "<Figure size 640x480 with 1 Axes>"
      ]
     },
     "metadata": {},
     "output_type": "display_data"
    }
   ],
   "source": [
    "### plot the losses\n",
    "losses = mlp.loss_curve_\n",
    "\n",
    "plt.plot(losses)"
   ]
  },
  {
   "cell_type": "markdown",
   "id": "f3e1e0c4-4a8d-4503-9b75-b5a1e77351cb",
   "metadata": {},
   "source": [
    "## Test 2\n",
    "- Two hidden layer\n",
    "- 100 neurons\n",
    "- 60 epochs\n",
    "- Learning rate = 3.0\n",
    "- Bacth size 10\n",
    "- No regularization"
   ]
  },
  {
   "cell_type": "code",
   "execution_count": 135,
   "id": "6c1984d9-615e-4ba8-a0cf-8762a82428ff",
   "metadata": {},
   "outputs": [],
   "source": [
    "mlp = MLPClassifier(\n",
    "    hidden_layer_sizes=(100,2),# here is the number of hidden layers, in this case 100 neurons in one layer\n",
    "    max_iter=60,               # number of trainning steps\n",
    "    solver='sgd',              # optimization algorithm, gradient descent\n",
    "    verbose=10,                # quantity of trainning output\n",
    "    learning_rate_init=0.1,    # initial learning_rate, updates network weights\n",
    "    batch_size=10,\n",
    ")"
   ]
  },
  {
   "cell_type": "code",
   "execution_count": 136,
   "id": "fa108c8a-2dcf-48cb-b943-50ddc8ce5c89",
   "metadata": {},
   "outputs": [
    {
     "name": "stdout",
     "output_type": "stream",
     "text": [
      "Iteration 1, loss = 2.27823428\n",
      "Iteration 2, loss = 2.32718385\n",
      "Iteration 3, loss = 2.32638948\n",
      "Iteration 4, loss = 2.32703128\n",
      "Iteration 5, loss = 2.32575757\n",
      "Iteration 6, loss = 2.32470227\n",
      "Iteration 7, loss = 2.32516412\n",
      "Iteration 8, loss = 2.32473966\n",
      "Iteration 9, loss = 2.32389586\n",
      "Iteration 10, loss = 2.32314146\n",
      "Iteration 11, loss = 2.32341222\n",
      "Iteration 12, loss = 2.32400216\n",
      "Training loss did not improve more than tol=0.000100 for 10 consecutive epochs. Stopping.\n"
     ]
    },
    {
     "data": {
      "text/html": [
       "<style>#sk-container-id-40 {color: black;background-color: white;}#sk-container-id-40 pre{padding: 0;}#sk-container-id-40 div.sk-toggleable {background-color: white;}#sk-container-id-40 label.sk-toggleable__label {cursor: pointer;display: block;width: 100%;margin-bottom: 0;padding: 0.3em;box-sizing: border-box;text-align: center;}#sk-container-id-40 label.sk-toggleable__label-arrow:before {content: \"▸\";float: left;margin-right: 0.25em;color: #696969;}#sk-container-id-40 label.sk-toggleable__label-arrow:hover:before {color: black;}#sk-container-id-40 div.sk-estimator:hover label.sk-toggleable__label-arrow:before {color: black;}#sk-container-id-40 div.sk-toggleable__content {max-height: 0;max-width: 0;overflow: hidden;text-align: left;background-color: #f0f8ff;}#sk-container-id-40 div.sk-toggleable__content pre {margin: 0.2em;color: black;border-radius: 0.25em;background-color: #f0f8ff;}#sk-container-id-40 input.sk-toggleable__control:checked~div.sk-toggleable__content {max-height: 200px;max-width: 100%;overflow: auto;}#sk-container-id-40 input.sk-toggleable__control:checked~label.sk-toggleable__label-arrow:before {content: \"▾\";}#sk-container-id-40 div.sk-estimator input.sk-toggleable__control:checked~label.sk-toggleable__label {background-color: #d4ebff;}#sk-container-id-40 div.sk-label input.sk-toggleable__control:checked~label.sk-toggleable__label {background-color: #d4ebff;}#sk-container-id-40 input.sk-hidden--visually {border: 0;clip: rect(1px 1px 1px 1px);clip: rect(1px, 1px, 1px, 1px);height: 1px;margin: -1px;overflow: hidden;padding: 0;position: absolute;width: 1px;}#sk-container-id-40 div.sk-estimator {font-family: monospace;background-color: #f0f8ff;border: 1px dotted black;border-radius: 0.25em;box-sizing: border-box;margin-bottom: 0.5em;}#sk-container-id-40 div.sk-estimator:hover {background-color: #d4ebff;}#sk-container-id-40 div.sk-parallel-item::after {content: \"\";width: 100%;border-bottom: 1px solid gray;flex-grow: 1;}#sk-container-id-40 div.sk-label:hover label.sk-toggleable__label {background-color: #d4ebff;}#sk-container-id-40 div.sk-serial::before {content: \"\";position: absolute;border-left: 1px solid gray;box-sizing: border-box;top: 0;bottom: 0;left: 50%;z-index: 0;}#sk-container-id-40 div.sk-serial {display: flex;flex-direction: column;align-items: center;background-color: white;padding-right: 0.2em;padding-left: 0.2em;position: relative;}#sk-container-id-40 div.sk-item {position: relative;z-index: 1;}#sk-container-id-40 div.sk-parallel {display: flex;align-items: stretch;justify-content: center;background-color: white;position: relative;}#sk-container-id-40 div.sk-item::before, #sk-container-id-40 div.sk-parallel-item::before {content: \"\";position: absolute;border-left: 1px solid gray;box-sizing: border-box;top: 0;bottom: 0;left: 50%;z-index: -1;}#sk-container-id-40 div.sk-parallel-item {display: flex;flex-direction: column;z-index: 1;position: relative;background-color: white;}#sk-container-id-40 div.sk-parallel-item:first-child::after {align-self: flex-end;width: 50%;}#sk-container-id-40 div.sk-parallel-item:last-child::after {align-self: flex-start;width: 50%;}#sk-container-id-40 div.sk-parallel-item:only-child::after {width: 0;}#sk-container-id-40 div.sk-dashed-wrapped {border: 1px dashed gray;margin: 0 0.4em 0.5em 0.4em;box-sizing: border-box;padding-bottom: 0.4em;background-color: white;}#sk-container-id-40 div.sk-label label {font-family: monospace;font-weight: bold;display: inline-block;line-height: 1.2em;}#sk-container-id-40 div.sk-label-container {text-align: center;}#sk-container-id-40 div.sk-container {/* jupyter's `normalize.less` sets `[hidden] { display: none; }` but bootstrap.min.css set `[hidden] { display: none !important; }` so we also need the `!important` here to be able to override the default hidden behavior on the sphinx rendered scikit-learn.org. See: https://github.com/scikit-learn/scikit-learn/issues/21755 */display: inline-block !important;position: relative;}#sk-container-id-40 div.sk-text-repr-fallback {display: none;}</style><div id=\"sk-container-id-40\" class=\"sk-top-container\"><div class=\"sk-text-repr-fallback\"><pre>MLPClassifier(batch_size=10, hidden_layer_sizes=(100, 2),\n",
       "              learning_rate_init=0.1, max_iter=60, solver=&#x27;sgd&#x27;, verbose=10)</pre><b>In a Jupyter environment, please rerun this cell to show the HTML representation or trust the notebook. <br />On GitHub, the HTML representation is unable to render, please try loading this page with nbviewer.org.</b></div><div class=\"sk-container\" hidden><div class=\"sk-item\"><div class=\"sk-estimator sk-toggleable\"><input class=\"sk-toggleable__control sk-hidden--visually\" id=\"sk-estimator-id-40\" type=\"checkbox\" checked><label for=\"sk-estimator-id-40\" class=\"sk-toggleable__label sk-toggleable__label-arrow\">MLPClassifier</label><div class=\"sk-toggleable__content\"><pre>MLPClassifier(batch_size=10, hidden_layer_sizes=(100, 2),\n",
       "              learning_rate_init=0.1, max_iter=60, solver=&#x27;sgd&#x27;, verbose=10)</pre></div></div></div></div></div>"
      ],
      "text/plain": [
       "MLPClassifier(batch_size=10, hidden_layer_sizes=(100, 2),\n",
       "              learning_rate_init=0.1, max_iter=60, solver='sgd', verbose=10)"
      ]
     },
     "execution_count": 136,
     "metadata": {},
     "output_type": "execute_result"
    }
   ],
   "source": [
    "mlp.fit(X_train, y_train)"
   ]
  },
  {
   "cell_type": "code",
   "execution_count": 105,
   "id": "003208fd-3abc-432f-b1d8-13c728ddfab3",
   "metadata": {},
   "outputs": [
    {
     "name": "stdout",
     "output_type": "stream",
     "text": [
      "Acurácia do MLP: 10.24%\n"
     ]
    }
   ],
   "source": [
    "predictions = mlp.predict(X_test)\n",
    "accuracy = accuracy_score(y_test, predictions)\n",
    "print(\"Acurácia do MLP: {:.2f}%\".format(accuracy * 100))"
   ]
  },
  {
   "cell_type": "markdown",
   "id": "3db48fa0-9500-41b6-a62d-7cc33956dac2",
   "metadata": {},
   "source": [
    "## teste 3\n",
    "- One hidden layer\n",
    "- 100 neurons\n",
    "- 60 epochs\n",
    "- Learning rate = 1.0\n",
    "- Batch size = 10\n",
    "- No Regularization "
   ]
  },
  {
   "cell_type": "code",
   "execution_count": 137,
   "id": "0d80ee19-4ee9-4a59-87b7-dd245955ce47",
   "metadata": {},
   "outputs": [],
   "source": [
    "mlp = MLPClassifier(\n",
    "    hidden_layer_sizes=(100,), # here is the number of hidden layers, in this case 100 neurons in one layer\n",
    "    max_iter=60,              # number of trainning steps\n",
    "    solver='sgd',              # optimization algorithm, gradient descent\n",
    "    verbose=10,                # quantity of trainning output\n",
    "    learning_rate_init=1.0,    # initial learning_rate, updates network weights\n",
    "    batch_size=10,\n",
    ")"
   ]
  },
  {
   "cell_type": "code",
   "execution_count": 138,
   "id": "35f0be02-dfb6-471a-a959-d89ef2decd88",
   "metadata": {},
   "outputs": [
    {
     "name": "stdout",
     "output_type": "stream",
     "text": [
      "Iteration 1, loss = 3.06513852\n",
      "Iteration 2, loss = 2.68740842\n",
      "Iteration 3, loss = 2.54137943\n",
      "Iteration 4, loss = 2.48584970\n",
      "Iteration 5, loss = 2.46247931\n",
      "Iteration 6, loss = 2.45620426\n",
      "Iteration 7, loss = 2.45332612\n",
      "Iteration 8, loss = 2.45246046\n",
      "Iteration 9, loss = 2.44767223\n",
      "Iteration 10, loss = 2.45055340\n",
      "Iteration 11, loss = 2.45337352\n",
      "Iteration 12, loss = 2.45165167\n",
      "Iteration 13, loss = 2.45028897\n",
      "Iteration 14, loss = 2.45332619\n",
      "Iteration 15, loss = 2.45180874\n",
      "Iteration 16, loss = 2.45261033\n",
      "Iteration 17, loss = 2.45053471\n",
      "Iteration 18, loss = 2.45264804\n",
      "Iteration 19, loss = 2.45151011\n",
      "Iteration 20, loss = 2.44813040\n",
      "Training loss did not improve more than tol=0.000100 for 10 consecutive epochs. Stopping.\n"
     ]
    },
    {
     "data": {
      "text/html": [
       "<style>#sk-container-id-41 {color: black;background-color: white;}#sk-container-id-41 pre{padding: 0;}#sk-container-id-41 div.sk-toggleable {background-color: white;}#sk-container-id-41 label.sk-toggleable__label {cursor: pointer;display: block;width: 100%;margin-bottom: 0;padding: 0.3em;box-sizing: border-box;text-align: center;}#sk-container-id-41 label.sk-toggleable__label-arrow:before {content: \"▸\";float: left;margin-right: 0.25em;color: #696969;}#sk-container-id-41 label.sk-toggleable__label-arrow:hover:before {color: black;}#sk-container-id-41 div.sk-estimator:hover label.sk-toggleable__label-arrow:before {color: black;}#sk-container-id-41 div.sk-toggleable__content {max-height: 0;max-width: 0;overflow: hidden;text-align: left;background-color: #f0f8ff;}#sk-container-id-41 div.sk-toggleable__content pre {margin: 0.2em;color: black;border-radius: 0.25em;background-color: #f0f8ff;}#sk-container-id-41 input.sk-toggleable__control:checked~div.sk-toggleable__content {max-height: 200px;max-width: 100%;overflow: auto;}#sk-container-id-41 input.sk-toggleable__control:checked~label.sk-toggleable__label-arrow:before {content: \"▾\";}#sk-container-id-41 div.sk-estimator input.sk-toggleable__control:checked~label.sk-toggleable__label {background-color: #d4ebff;}#sk-container-id-41 div.sk-label input.sk-toggleable__control:checked~label.sk-toggleable__label {background-color: #d4ebff;}#sk-container-id-41 input.sk-hidden--visually {border: 0;clip: rect(1px 1px 1px 1px);clip: rect(1px, 1px, 1px, 1px);height: 1px;margin: -1px;overflow: hidden;padding: 0;position: absolute;width: 1px;}#sk-container-id-41 div.sk-estimator {font-family: monospace;background-color: #f0f8ff;border: 1px dotted black;border-radius: 0.25em;box-sizing: border-box;margin-bottom: 0.5em;}#sk-container-id-41 div.sk-estimator:hover {background-color: #d4ebff;}#sk-container-id-41 div.sk-parallel-item::after {content: \"\";width: 100%;border-bottom: 1px solid gray;flex-grow: 1;}#sk-container-id-41 div.sk-label:hover label.sk-toggleable__label {background-color: #d4ebff;}#sk-container-id-41 div.sk-serial::before {content: \"\";position: absolute;border-left: 1px solid gray;box-sizing: border-box;top: 0;bottom: 0;left: 50%;z-index: 0;}#sk-container-id-41 div.sk-serial {display: flex;flex-direction: column;align-items: center;background-color: white;padding-right: 0.2em;padding-left: 0.2em;position: relative;}#sk-container-id-41 div.sk-item {position: relative;z-index: 1;}#sk-container-id-41 div.sk-parallel {display: flex;align-items: stretch;justify-content: center;background-color: white;position: relative;}#sk-container-id-41 div.sk-item::before, #sk-container-id-41 div.sk-parallel-item::before {content: \"\";position: absolute;border-left: 1px solid gray;box-sizing: border-box;top: 0;bottom: 0;left: 50%;z-index: -1;}#sk-container-id-41 div.sk-parallel-item {display: flex;flex-direction: column;z-index: 1;position: relative;background-color: white;}#sk-container-id-41 div.sk-parallel-item:first-child::after {align-self: flex-end;width: 50%;}#sk-container-id-41 div.sk-parallel-item:last-child::after {align-self: flex-start;width: 50%;}#sk-container-id-41 div.sk-parallel-item:only-child::after {width: 0;}#sk-container-id-41 div.sk-dashed-wrapped {border: 1px dashed gray;margin: 0 0.4em 0.5em 0.4em;box-sizing: border-box;padding-bottom: 0.4em;background-color: white;}#sk-container-id-41 div.sk-label label {font-family: monospace;font-weight: bold;display: inline-block;line-height: 1.2em;}#sk-container-id-41 div.sk-label-container {text-align: center;}#sk-container-id-41 div.sk-container {/* jupyter's `normalize.less` sets `[hidden] { display: none; }` but bootstrap.min.css set `[hidden] { display: none !important; }` so we also need the `!important` here to be able to override the default hidden behavior on the sphinx rendered scikit-learn.org. See: https://github.com/scikit-learn/scikit-learn/issues/21755 */display: inline-block !important;position: relative;}#sk-container-id-41 div.sk-text-repr-fallback {display: none;}</style><div id=\"sk-container-id-41\" class=\"sk-top-container\"><div class=\"sk-text-repr-fallback\"><pre>MLPClassifier(batch_size=10, learning_rate_init=1.0, max_iter=30, solver=&#x27;sgd&#x27;,\n",
       "              verbose=10)</pre><b>In a Jupyter environment, please rerun this cell to show the HTML representation or trust the notebook. <br />On GitHub, the HTML representation is unable to render, please try loading this page with nbviewer.org.</b></div><div class=\"sk-container\" hidden><div class=\"sk-item\"><div class=\"sk-estimator sk-toggleable\"><input class=\"sk-toggleable__control sk-hidden--visually\" id=\"sk-estimator-id-41\" type=\"checkbox\" checked><label for=\"sk-estimator-id-41\" class=\"sk-toggleable__label sk-toggleable__label-arrow\">MLPClassifier</label><div class=\"sk-toggleable__content\"><pre>MLPClassifier(batch_size=10, learning_rate_init=1.0, max_iter=30, solver=&#x27;sgd&#x27;,\n",
       "              verbose=10)</pre></div></div></div></div></div>"
      ],
      "text/plain": [
       "MLPClassifier(batch_size=10, learning_rate_init=1.0, max_iter=30, solver='sgd',\n",
       "              verbose=10)"
      ]
     },
     "execution_count": 138,
     "metadata": {},
     "output_type": "execute_result"
    }
   ],
   "source": [
    "mlp.fit(X_train, y_train)"
   ]
  },
  {
   "cell_type": "code",
   "execution_count": 139,
   "id": "0da152fe-af65-4676-90eb-fe80ee69bb91",
   "metadata": {},
   "outputs": [
    {
     "name": "stdout",
     "output_type": "stream",
     "text": [
      "Acurácia do MLP: 9.75%\n"
     ]
    }
   ],
   "source": [
    "predictions = mlp.predict(X_test)\n",
    "accuracy = accuracy_score(y_test, predictions)\n",
    "print(\"Acurácia do MLP: {:.2f}%\".format(accuracy * 100))"
   ]
  },
  {
   "cell_type": "markdown",
   "id": "5f12d353-8acf-4c60-b737-26753fe66eaf",
   "metadata": {},
   "source": [
    "## teste 3\n",
    "- One hidden layer\n",
    "- 100 neurons\n",
    "- 60 epochs\n",
    "- Learning rate = 0.1\n",
    "- Batch size = 100\n",
    "- No regularization"
   ]
  },
  {
   "cell_type": "code",
   "execution_count": 140,
   "id": "f0721dce-7318-48f6-a315-8e8bfd12dc1e",
   "metadata": {},
   "outputs": [],
   "source": [
    "mlp = MLPClassifier(\n",
    "    hidden_layer_sizes=(100,),# here is the number of hidden layers, in this case 100 neurons in one layer\n",
    "    max_iter=60,              # number of trainning steps\n",
    "    solver='sgd',              # optimization algorithm, gradient descent\n",
    "    verbose=10,                # quantity of trainning output\n",
    "    learning_rate_init=0.1,    # initial learning_rate, updates network weights\n",
    "    batch_size=100,\n",
    ")"
   ]
  },
  {
   "cell_type": "code",
   "execution_count": 141,
   "id": "8c2b3597-5584-41c7-98f9-acf305d4fa93",
   "metadata": {},
   "outputs": [
    {
     "name": "stdout",
     "output_type": "stream",
     "text": [
      "Iteration 1, loss = 0.26108772\n",
      "Iteration 2, loss = 0.11512141\n",
      "Iteration 3, loss = 0.08201170\n",
      "Iteration 4, loss = 0.06576728\n",
      "Iteration 5, loss = 0.05431546\n",
      "Iteration 6, loss = 0.04326845\n",
      "Iteration 7, loss = 0.03586087\n",
      "Iteration 8, loss = 0.02805598\n",
      "Iteration 9, loss = 0.02402994\n",
      "Iteration 10, loss = 0.01946936\n",
      "Iteration 11, loss = 0.01475527\n",
      "Iteration 12, loss = 0.01094001\n",
      "Iteration 13, loss = 0.00906730\n",
      "Iteration 14, loss = 0.00774447\n",
      "Iteration 15, loss = 0.00466780\n",
      "Iteration 16, loss = 0.00324205\n",
      "Iteration 17, loss = 0.00226006\n",
      "Iteration 18, loss = 0.00197008\n",
      "Iteration 19, loss = 0.00176256\n",
      "Iteration 20, loss = 0.00162526\n",
      "Iteration 21, loss = 0.00152069\n",
      "Iteration 22, loss = 0.00145785\n",
      "Iteration 23, loss = 0.00140182\n",
      "Iteration 24, loss = 0.00135745\n",
      "Iteration 25, loss = 0.00132796\n",
      "Iteration 26, loss = 0.00129120\n",
      "Iteration 27, loss = 0.00125580\n",
      "Iteration 28, loss = 0.00123440\n",
      "Iteration 29, loss = 0.00120497\n",
      "Iteration 30, loss = 0.00118031\n",
      "Iteration 31, loss = 0.00117139\n",
      "Iteration 32, loss = 0.00114989\n",
      "Training loss did not improve more than tol=0.000100 for 10 consecutive epochs. Stopping.\n"
     ]
    },
    {
     "data": {
      "text/html": [
       "<style>#sk-container-id-42 {color: black;background-color: white;}#sk-container-id-42 pre{padding: 0;}#sk-container-id-42 div.sk-toggleable {background-color: white;}#sk-container-id-42 label.sk-toggleable__label {cursor: pointer;display: block;width: 100%;margin-bottom: 0;padding: 0.3em;box-sizing: border-box;text-align: center;}#sk-container-id-42 label.sk-toggleable__label-arrow:before {content: \"▸\";float: left;margin-right: 0.25em;color: #696969;}#sk-container-id-42 label.sk-toggleable__label-arrow:hover:before {color: black;}#sk-container-id-42 div.sk-estimator:hover label.sk-toggleable__label-arrow:before {color: black;}#sk-container-id-42 div.sk-toggleable__content {max-height: 0;max-width: 0;overflow: hidden;text-align: left;background-color: #f0f8ff;}#sk-container-id-42 div.sk-toggleable__content pre {margin: 0.2em;color: black;border-radius: 0.25em;background-color: #f0f8ff;}#sk-container-id-42 input.sk-toggleable__control:checked~div.sk-toggleable__content {max-height: 200px;max-width: 100%;overflow: auto;}#sk-container-id-42 input.sk-toggleable__control:checked~label.sk-toggleable__label-arrow:before {content: \"▾\";}#sk-container-id-42 div.sk-estimator input.sk-toggleable__control:checked~label.sk-toggleable__label {background-color: #d4ebff;}#sk-container-id-42 div.sk-label input.sk-toggleable__control:checked~label.sk-toggleable__label {background-color: #d4ebff;}#sk-container-id-42 input.sk-hidden--visually {border: 0;clip: rect(1px 1px 1px 1px);clip: rect(1px, 1px, 1px, 1px);height: 1px;margin: -1px;overflow: hidden;padding: 0;position: absolute;width: 1px;}#sk-container-id-42 div.sk-estimator {font-family: monospace;background-color: #f0f8ff;border: 1px dotted black;border-radius: 0.25em;box-sizing: border-box;margin-bottom: 0.5em;}#sk-container-id-42 div.sk-estimator:hover {background-color: #d4ebff;}#sk-container-id-42 div.sk-parallel-item::after {content: \"\";width: 100%;border-bottom: 1px solid gray;flex-grow: 1;}#sk-container-id-42 div.sk-label:hover label.sk-toggleable__label {background-color: #d4ebff;}#sk-container-id-42 div.sk-serial::before {content: \"\";position: absolute;border-left: 1px solid gray;box-sizing: border-box;top: 0;bottom: 0;left: 50%;z-index: 0;}#sk-container-id-42 div.sk-serial {display: flex;flex-direction: column;align-items: center;background-color: white;padding-right: 0.2em;padding-left: 0.2em;position: relative;}#sk-container-id-42 div.sk-item {position: relative;z-index: 1;}#sk-container-id-42 div.sk-parallel {display: flex;align-items: stretch;justify-content: center;background-color: white;position: relative;}#sk-container-id-42 div.sk-item::before, #sk-container-id-42 div.sk-parallel-item::before {content: \"\";position: absolute;border-left: 1px solid gray;box-sizing: border-box;top: 0;bottom: 0;left: 50%;z-index: -1;}#sk-container-id-42 div.sk-parallel-item {display: flex;flex-direction: column;z-index: 1;position: relative;background-color: white;}#sk-container-id-42 div.sk-parallel-item:first-child::after {align-self: flex-end;width: 50%;}#sk-container-id-42 div.sk-parallel-item:last-child::after {align-self: flex-start;width: 50%;}#sk-container-id-42 div.sk-parallel-item:only-child::after {width: 0;}#sk-container-id-42 div.sk-dashed-wrapped {border: 1px dashed gray;margin: 0 0.4em 0.5em 0.4em;box-sizing: border-box;padding-bottom: 0.4em;background-color: white;}#sk-container-id-42 div.sk-label label {font-family: monospace;font-weight: bold;display: inline-block;line-height: 1.2em;}#sk-container-id-42 div.sk-label-container {text-align: center;}#sk-container-id-42 div.sk-container {/* jupyter's `normalize.less` sets `[hidden] { display: none; }` but bootstrap.min.css set `[hidden] { display: none !important; }` so we also need the `!important` here to be able to override the default hidden behavior on the sphinx rendered scikit-learn.org. See: https://github.com/scikit-learn/scikit-learn/issues/21755 */display: inline-block !important;position: relative;}#sk-container-id-42 div.sk-text-repr-fallback {display: none;}</style><div id=\"sk-container-id-42\" class=\"sk-top-container\"><div class=\"sk-text-repr-fallback\"><pre>MLPClassifier(batch_size=100, learning_rate_init=0.1, max_iter=60, solver=&#x27;sgd&#x27;,\n",
       "              verbose=10)</pre><b>In a Jupyter environment, please rerun this cell to show the HTML representation or trust the notebook. <br />On GitHub, the HTML representation is unable to render, please try loading this page with nbviewer.org.</b></div><div class=\"sk-container\" hidden><div class=\"sk-item\"><div class=\"sk-estimator sk-toggleable\"><input class=\"sk-toggleable__control sk-hidden--visually\" id=\"sk-estimator-id-42\" type=\"checkbox\" checked><label for=\"sk-estimator-id-42\" class=\"sk-toggleable__label sk-toggleable__label-arrow\">MLPClassifier</label><div class=\"sk-toggleable__content\"><pre>MLPClassifier(batch_size=100, learning_rate_init=0.1, max_iter=60, solver=&#x27;sgd&#x27;,\n",
       "              verbose=10)</pre></div></div></div></div></div>"
      ],
      "text/plain": [
       "MLPClassifier(batch_size=100, learning_rate_init=0.1, max_iter=60, solver='sgd',\n",
       "              verbose=10)"
      ]
     },
     "execution_count": 141,
     "metadata": {},
     "output_type": "execute_result"
    }
   ],
   "source": [
    "mlp.fit(X_train, y_train)"
   ]
  },
  {
   "cell_type": "code",
   "execution_count": 142,
   "id": "b25e1db3-33d8-40de-aa0b-ca505731dd1d",
   "metadata": {},
   "outputs": [
    {
     "name": "stdout",
     "output_type": "stream",
     "text": [
      "Acurácia do MLP: 97.89%\n"
     ]
    }
   ],
   "source": [
    "predictions = mlp.predict(X_test)\n",
    "acc = accuracy_score(y_test, predictions)\n",
    "print(\"Acurácia do MLP: {:.2f}%\".format(acc * 100))"
   ]
  },
  {
   "cell_type": "markdown",
   "id": "2501bb95-56f1-49af-9459-f5c4c04cbd2a",
   "metadata": {},
   "source": [
    "## teste 4\n",
    "- One hidden layer\n",
    "- 100 neurons\n",
    "- 60 epochs\n",
    "- Learning rate = 0.1\n",
    "- Batch size = 100\n",
    "- Regularization = 0.0001"
   ]
  },
  {
   "cell_type": "code",
   "execution_count": 143,
   "id": "4b70f5c6-b451-410c-9dc4-17c2aab98750",
   "metadata": {},
   "outputs": [],
   "source": [
    "mlp = MLPClassifier(\n",
    "    hidden_layer_sizes=(100,),# here is the number of hidden layers, in this case 100 neurons in one layer\n",
    "    max_iter=60,              # number of trainning steps\n",
    "    solver='sgd',              # optimization algorithm, gradient descent\n",
    "    verbose=10,                # quantity of trainning output\n",
    "    learning_rate_init=0.1,    # initial learning_rate, updates network weights\n",
    "    batch_size=100,\n",
    "    alpha=0.0001,\n",
    ")"
   ]
  },
  {
   "cell_type": "code",
   "execution_count": 144,
   "id": "cad4801c-5d0b-4eaf-994c-71b58d4fecc4",
   "metadata": {},
   "outputs": [
    {
     "name": "stdout",
     "output_type": "stream",
     "text": [
      "Iteration 1, loss = 0.25716138\n",
      "Iteration 2, loss = 0.11746517\n",
      "Iteration 3, loss = 0.08424552\n",
      "Iteration 4, loss = 0.06477017\n",
      "Iteration 5, loss = 0.05254433\n",
      "Iteration 6, loss = 0.04326935\n",
      "Iteration 7, loss = 0.03543454\n",
      "Iteration 8, loss = 0.02751893\n",
      "Iteration 9, loss = 0.02437748\n",
      "Iteration 10, loss = 0.01863878\n",
      "Iteration 11, loss = 0.01472417\n",
      "Iteration 12, loss = 0.01140343\n",
      "Iteration 13, loss = 0.00798349\n",
      "Iteration 14, loss = 0.00617038\n",
      "Iteration 15, loss = 0.00401768\n",
      "Iteration 16, loss = 0.00275846\n",
      "Iteration 17, loss = 0.00208654\n",
      "Iteration 18, loss = 0.00180677\n",
      "Iteration 19, loss = 0.00167703\n",
      "Iteration 20, loss = 0.00158431\n",
      "Iteration 21, loss = 0.00148717\n",
      "Iteration 22, loss = 0.00144289\n",
      "Iteration 23, loss = 0.00137982\n",
      "Iteration 24, loss = 0.00133208\n",
      "Iteration 25, loss = 0.00129129\n",
      "Iteration 26, loss = 0.00127040\n",
      "Iteration 27, loss = 0.00124140\n",
      "Iteration 28, loss = 0.00122713\n",
      "Iteration 29, loss = 0.00119876\n",
      "Iteration 30, loss = 0.00117454\n",
      "Training loss did not improve more than tol=0.000100 for 10 consecutive epochs. Stopping.\n",
      "Acurácia do MLP: 97.90%\n"
     ]
    }
   ],
   "source": [
    "mlp.fit(X_train, y_train)\n",
    "predictions = mlp.predict(X_test)\n",
    "acc = accuracy_score(y_test, predictions)\n",
    "print(\"Acurácia do MLP: {:.2f}%\".format(acc * 100))"
   ]
  },
  {
   "cell_type": "markdown",
   "id": "12ae925e-7cf4-47db-90f6-7aad1b2192bd",
   "metadata": {},
   "source": [
    "## teste 5\n",
    "- One hidden layer\n",
    "- 100 neurons\n",
    "- 60 epochs\n",
    "- Learning rate = 0.1\n",
    "- Batch size = 100\n",
    "- Regularization = 0.0001\n",
    "- Dropout = 0.1"
   ]
  },
  {
   "cell_type": "code",
   "execution_count": 149,
   "id": "61777001-6bd1-44bd-9815-3415a49c7b3a",
   "metadata": {},
   "outputs": [],
   "source": [
    "# source code: https://datascience.stackexchange.com/questions/117082/how-can-i-implement-dropout-in-scikit-learn\n",
    "\n",
    "# Creating a custom MLPDropout classifier\n",
    "from sklearn.neural_network import MLPClassifier\n",
    "from sklearn.neural_network._stochastic_optimizers import AdamOptimizer\n",
    "from sklearn.neural_network._base import ACTIVATIONS, DERIVATIVES, LOSS_FUNCTIONS\n",
    "from sklearn.utils import shuffle, gen_batches, check_random_state, _safe_indexing\n",
    "from sklearn.utils.extmath import safe_sparse_dot\n",
    "import warnings\n",
    "from sklearn.exceptions import ConvergenceWarning\n",
    "\n",
    "class MLPDropout(MLPClassifier):\n",
    "    \n",
    "    def __init__(\n",
    "        self,\n",
    "        hidden_layer_sizes=(100,),\n",
    "        activation=\"relu\",\n",
    "        *,\n",
    "        solver=\"adam\",\n",
    "        alpha=0.0001,\n",
    "        batch_size=\"auto\",\n",
    "        learning_rate=\"constant\",\n",
    "        learning_rate_init=0.001,\n",
    "        power_t=0.5,\n",
    "        max_iter=200,\n",
    "        shuffle=True,\n",
    "        random_state=None,\n",
    "        tol=1e-4,\n",
    "        verbose=False,\n",
    "        warm_start=False,\n",
    "        momentum=0.9,\n",
    "        nesterovs_momentum=True,\n",
    "        early_stopping=False,\n",
    "        validation_fraction=0.1,\n",
    "        beta_1=0.9,\n",
    "        beta_2=0.999,\n",
    "        epsilon=1e-8,\n",
    "        n_iter_no_change=10,\n",
    "        max_fun=15000,\n",
    "        dropout = None,\n",
    "    ):\n",
    "        '''\n",
    "        Additional Parameters:\n",
    "        ----------\n",
    "        dropout : float in range (0, 1), default=None\n",
    "            Dropout parameter for the model, defines the percentage of nodes\n",
    "            to remove at each layer.\n",
    "            \n",
    "        '''\n",
    "        self.dropout = dropout\n",
    "        super().__init__(\n",
    "            hidden_layer_sizes=hidden_layer_sizes,\n",
    "            activation=activation,\n",
    "            solver=solver,\n",
    "            alpha=alpha,\n",
    "            batch_size=batch_size,\n",
    "            learning_rate=learning_rate,\n",
    "            learning_rate_init=learning_rate_init,\n",
    "            power_t=power_t,\n",
    "            max_iter=max_iter,\n",
    "            shuffle=shuffle,\n",
    "            random_state=random_state,\n",
    "            tol=tol,\n",
    "            verbose=verbose,\n",
    "            warm_start=warm_start,\n",
    "            momentum=momentum,\n",
    "            nesterovs_momentum=nesterovs_momentum,\n",
    "            early_stopping=early_stopping,\n",
    "            validation_fraction=validation_fraction,\n",
    "            beta_1=beta_1,\n",
    "            beta_2=beta_2,\n",
    "            epsilon=epsilon,\n",
    "            n_iter_no_change=n_iter_no_change,\n",
    "            max_fun=max_fun,\n",
    "        )\n",
    "    \n",
    "    def _fit_stochastic(\n",
    "        self,\n",
    "        X,\n",
    "        y,\n",
    "        activations,\n",
    "        deltas,\n",
    "        coef_grads,\n",
    "        intercept_grads,\n",
    "        layer_units,\n",
    "        incremental,\n",
    "    ):\n",
    "        params = self.coefs_ + self.intercepts_\n",
    "        if not incremental or not hasattr(self, \"_optimizer\"):\n",
    "            if self.solver == \"sgd\":\n",
    "                self._optimizer = SGDOptimizer(\n",
    "                    params,\n",
    "                    self.learning_rate_init,\n",
    "                    self.learning_rate,\n",
    "                    self.momentum,\n",
    "                    self.nesterovs_momentum,\n",
    "                    self.power_t,\n",
    "                )\n",
    "            elif self.solver == \"adam\":\n",
    "                self._optimizer = AdamOptimizer(\n",
    "                    params,\n",
    "                    self.learning_rate_init,\n",
    "                    self.beta_1,\n",
    "                    self.beta_2,\n",
    "                    self.epsilon,\n",
    "                )\n",
    "\n",
    "        # early_stopping in partial_fit doesn't make sense\n",
    "        early_stopping = self.early_stopping and not incremental\n",
    "        if early_stopping:\n",
    "            # don't stratify in multilabel classification\n",
    "            should_stratify = is_classifier(self) and self.n_outputs_ == 1\n",
    "            stratify = y if should_stratify else None\n",
    "            X, X_val, y, y_val = train_test_split(\n",
    "                X,\n",
    "                y,\n",
    "                random_state=self._random_state,\n",
    "                test_size=self.validation_fraction,\n",
    "                stratify=stratify,\n",
    "            )\n",
    "            if is_classifier(self):\n",
    "                y_val = self._label_binarizer.inverse_transform(y_val)\n",
    "        else:\n",
    "            X_val = None\n",
    "            y_val = None\n",
    "\n",
    "        n_samples = X.shape[0]\n",
    "        sample_idx = np.arange(n_samples, dtype=int)\n",
    "\n",
    "        if self.batch_size == \"auto\":\n",
    "            batch_size = min(200, n_samples)\n",
    "        else:\n",
    "            if self.batch_size < 1 or self.batch_size > n_samples:\n",
    "                warnings.warn(\n",
    "                    \"Got `batch_size` less than 1 or larger than \"\n",
    "                    \"sample size. It is going to be clipped\"\n",
    "                )\n",
    "            batch_size = np.clip(self.batch_size, 1, n_samples)\n",
    "\n",
    "        try:\n",
    "            for it in range(self.max_iter):\n",
    "                if self.shuffle:\n",
    "                    # Only shuffle the sample indices instead of X and y to\n",
    "                    # reduce the memory footprint. These indices will be used\n",
    "                    # to slice the X and y.\n",
    "                    sample_idx = shuffle(sample_idx, random_state=self._random_state)\n",
    "\n",
    "                accumulated_loss = 0.0\n",
    "                for batch_slice in gen_batches(n_samples, batch_size):\n",
    "                    if self.shuffle:\n",
    "                        X_batch = _safe_indexing(X, sample_idx[batch_slice])\n",
    "                        y_batch = y[sample_idx[batch_slice]]\n",
    "                    else:\n",
    "                        X_batch = X[batch_slice]\n",
    "                        y_batch = y[batch_slice]\n",
    "                    \n",
    "                    activations[0] = X_batch\n",
    "                    # (DROPOUT ADDITION) layer_units passed forward to help build dropout mask.\n",
    "                    batch_loss, coef_grads, intercept_grads = self._backprop(\n",
    "                        X_batch,\n",
    "                        y_batch,\n",
    "                        activations,\n",
    "                        layer_units,\n",
    "                        deltas,\n",
    "                        coef_grads,\n",
    "                        intercept_grads,\n",
    "                    )\n",
    "                    accumulated_loss += batch_loss * (\n",
    "                        batch_slice.stop - batch_slice.start\n",
    "                    )\n",
    "\n",
    "                    # update weights\n",
    "                    grads = coef_grads + intercept_grads\n",
    "                    self._optimizer.update_params(params, grads)\n",
    "\n",
    "                self.n_iter_ += 1\n",
    "                self.loss_ = accumulated_loss / X.shape[0]\n",
    "\n",
    "                self.t_ += n_samples\n",
    "                self.loss_curve_.append(self.loss_)\n",
    "                if self.verbose:\n",
    "                    print(\"Iteration %d, loss = %.8f\" % (self.n_iter_, self.loss_))\n",
    "\n",
    "                # update no_improvement_count based on training loss or\n",
    "                # validation score according to early_stopping\n",
    "                self._update_no_improvement_count(early_stopping, X_val, y_val)\n",
    "\n",
    "                # for learning rate that needs to be updated at iteration end\n",
    "                self._optimizer.iteration_ends(self.t_)\n",
    "\n",
    "                if self._no_improvement_count > self.n_iter_no_change:\n",
    "                    # not better than last `n_iter_no_change` iterations by tol\n",
    "                    # stop or decrease learning rate\n",
    "                    if early_stopping:\n",
    "                        msg = (\n",
    "                            \"Validation score did not improve more than \"\n",
    "                            \"tol=%f for %d consecutive epochs.\"\n",
    "                            % (self.tol, self.n_iter_no_change)\n",
    "                        )\n",
    "                    else:\n",
    "                        msg = (\n",
    "                            \"Training loss did not improve more than tol=%f\"\n",
    "                            \" for %d consecutive epochs.\"\n",
    "                            % (self.tol, self.n_iter_no_change)\n",
    "                        )\n",
    "\n",
    "                    is_stopping = self._optimizer.trigger_stopping(msg, self.verbose)\n",
    "                    if is_stopping:\n",
    "                        break\n",
    "                    else:\n",
    "                        self._no_improvement_count = 0\n",
    "\n",
    "                if incremental:\n",
    "                    break\n",
    "\n",
    "                if self.n_iter_ == self.max_iter:\n",
    "                    warnings.warn(\n",
    "                        \"Stochastic Optimizer: Maximum iterations (%d) \"\n",
    "                        \"reached and the optimization hasn't converged yet.\"\n",
    "                        % self.max_iter,\n",
    "                        ConvergenceWarning,\n",
    "                    )\n",
    "        except KeyboardInterrupt:\n",
    "            warnings.warn(\"Training interrupted by user.\")\n",
    "\n",
    "        if early_stopping:\n",
    "            # restore best weights\n",
    "            self.coefs_ = self._best_coefs\n",
    "            self.intercepts_ = self._best_intercepts\n",
    "    \n",
    "    def _backprop(self, X, y, activations, layer_units, deltas, coef_grads, intercept_grads):\n",
    "        \"\"\"Compute the MLP loss function and its corresponding derivatives\n",
    "        with respect to each parameter: weights and bias vectors.\n",
    "\n",
    "        Parameters\n",
    "        ----------\n",
    "        X : {array-like, sparse matrix} of shape (n_samples, n_features)\n",
    "            The input data.\n",
    "\n",
    "        y : ndarray of shape (n_samples,)\n",
    "            The target values.\n",
    "\n",
    "        activations : list, length = n_layers - 1\n",
    "            The ith element of the list holds the values of the ith layer.\n",
    "             \n",
    "        layer_units (DROPOUT ADDITION) : list, length = n_layers\n",
    "            The layer units of the neural net, this is the shape of the\n",
    "            Neural Net model. This is used to build the dropout mask.\n",
    "\n",
    "        deltas : list, length = n_layers - 1\n",
    "            The ith element of the list holds the difference between the\n",
    "            activations of the i + 1 layer and the backpropagated error.\n",
    "            More specifically, deltas are gradients of loss with respect to z\n",
    "            in each layer, where z = wx + b is the value of a particular layer\n",
    "            before passing through the activation function\n",
    "\n",
    "        coef_grads : list, length = n_layers - 1\n",
    "            The ith element contains the amount of change used to update the\n",
    "            coefficient parameters of the ith layer in an iteration.\n",
    "\n",
    "        intercept_grads : list, length = n_layers - 1\n",
    "            The ith element contains the amount of change used to update the\n",
    "            intercept parameters of the ith layer in an iteration.\n",
    "\n",
    "        Returns\n",
    "        -------\n",
    "        loss : float\n",
    "        coef_grads : list, length = n_layers - 1\n",
    "        intercept_grads : list, length = n_layers - 1\n",
    "        \"\"\"\n",
    "        n_samples = X.shape[0]\n",
    "        dropout_masks = None\n",
    "        \n",
    "        # Create the Dropout Mask (DROPOUT ADDITION)\n",
    "        if self.dropout != None:\n",
    "            if 0 < self.dropout < 1:\n",
    "                keep_probability = 1 - self.dropout\n",
    "                dropout_masks = [np.ones(layer_units[0])]\n",
    "                \n",
    "                # Create hidden Layer Dropout Masks\n",
    "                for units in layer_units[1:-1]:\n",
    "                    # Create inverted Dropout Mask, check for random_state\n",
    "                    if self.random_state != None:\n",
    "                        layer_mask = (self._random_state.random(units) < keep_probability).astype(int) / keep_probability\n",
    "                    else:\n",
    "                        layer_mask = (np.random.rand(units) < keep_probability).astype(int) / keep_probability\n",
    "                    dropout_masks.append(layer_mask)\n",
    "            else:\n",
    "                raise ValueError('Dropout must be between zero and one. If Dropout=X then, 0 < X < 1.')\n",
    "        \n",
    "        # Forward propagate\n",
    "        # Added dropout_makss to _forward_pass call (DROPOUT ADDITION)\n",
    "        activations = self._forward_pass(activations, dropout_masks)\n",
    "        \n",
    "        # Get loss\n",
    "        loss_func_name = self.loss\n",
    "        if loss_func_name == \"log_loss\" and self.out_activation_ == \"logistic\":\n",
    "            loss_func_name = \"binary_log_loss\"\n",
    "        loss = LOSS_FUNCTIONS[loss_func_name](y, activations[-1])\n",
    "        # Add L2 regularization term to loss\n",
    "        values = 0\n",
    "        for s in self.coefs_:\n",
    "            s = s.ravel()\n",
    "            values += np.dot(s, s)\n",
    "        loss += (0.5 * self.alpha) * values / n_samples\n",
    "\n",
    "        # Backward propagate\n",
    "        last = self.n_layers_ - 2\n",
    "\n",
    "        # The calculation of delta[last] here works with following\n",
    "        # combinations of output activation and loss function:\n",
    "        # sigmoid and binary cross entropy, softmax and categorical cross\n",
    "        # entropy, and identity with squared loss\n",
    "        deltas[last] = activations[-1] - y\n",
    "        \n",
    "        # Compute gradient for the last layer\n",
    "        self._compute_loss_grad(\n",
    "            last, n_samples, activations, deltas, coef_grads, intercept_grads\n",
    "        )\n",
    "\n",
    "        inplace_derivative = DERIVATIVES[self.activation]\n",
    "        # Iterate over the hidden layers\n",
    "        for i in range(self.n_layers_ - 2, 0, -1):\n",
    "            deltas[i - 1] = safe_sparse_dot(deltas[i], self.coefs_[i].T)\n",
    "            inplace_derivative(activations[i], deltas[i - 1])\n",
    "            \n",
    "            self._compute_loss_grad(\n",
    "                i - 1, n_samples, activations, deltas, coef_grads, intercept_grads\n",
    "            )\n",
    "        \n",
    "        # Apply Dropout Masks to the Parameter Gradients (DROPOUT ADDITION)\n",
    "        if dropout_masks != None:\n",
    "            for layer in range(len(coef_grads)-1):\n",
    "                mask = (~(dropout_masks[layer+1] == 0)).astype(int)\n",
    "                coef_grads[layer] = coef_grads[layer] * mask[None, :]\n",
    "                coef_grads[layer+1] = (coef_grads[layer+1] * mask.reshape(-1, 1))\n",
    "                intercept_grads[layer] = intercept_grads[layer] * mask\n",
    "        \n",
    "        return loss, coef_grads, intercept_grads\n",
    "    \n",
    "    def _forward_pass(self, activations, dropout_masks=None):\n",
    "        \"\"\"Perform a forward pass on the network by computing the values\n",
    "        of the neurons in the hidden layers and the output layer.\n",
    "\n",
    "        Parameters\n",
    "        ----------\n",
    "        activations : list, length = n_layers - 1\n",
    "            The ith element of the list holds the values of the ith layer.\n",
    "        dropout_mask : list, length = n_layers - 1\n",
    "            The ith element of the list holds the dropout mask for the ith\n",
    "            layer.\n",
    "        \"\"\"\n",
    "        hidden_activation = ACTIVATIONS[self.activation]\n",
    "        # Iterate over the hidden layers\n",
    "        for i in range(self.n_layers_ - 1):\n",
    "            activations[i + 1] = safe_sparse_dot(activations[i], self.coefs_[i])\n",
    "            activations[i + 1] += self.intercepts_[i]\n",
    "            \n",
    "            # For the hidden layers\n",
    "            if (i + 1) != (self.n_layers_ - 1):\n",
    "                hidden_activation(activations[i + 1])\n",
    "            \n",
    "            # Apply Dropout Mask (DROPOUT ADDITION)\n",
    "            if (i + 1) != (self.n_layers_ - 1) and dropout_masks != None:\n",
    "                check1 = activations[i].copy()\n",
    "                activations[i+1] = activations[i+1] * dropout_masks[i+1][None, :]\n",
    "\n",
    "        # For the last layer\n",
    "        output_activation = ACTIVATIONS[self.out_activation_]\n",
    "        output_activation(activations[i + 1])\n",
    "        return activations"
   ]
  },
  {
   "cell_type": "code",
   "execution_count": 150,
   "id": "08f53766-f40f-45ae-b9bb-b9f41c29b04e",
   "metadata": {},
   "outputs": [
    {
     "data": {
      "text/html": [
       "<style>#sk-container-id-43 {color: black;background-color: white;}#sk-container-id-43 pre{padding: 0;}#sk-container-id-43 div.sk-toggleable {background-color: white;}#sk-container-id-43 label.sk-toggleable__label {cursor: pointer;display: block;width: 100%;margin-bottom: 0;padding: 0.3em;box-sizing: border-box;text-align: center;}#sk-container-id-43 label.sk-toggleable__label-arrow:before {content: \"▸\";float: left;margin-right: 0.25em;color: #696969;}#sk-container-id-43 label.sk-toggleable__label-arrow:hover:before {color: black;}#sk-container-id-43 div.sk-estimator:hover label.sk-toggleable__label-arrow:before {color: black;}#sk-container-id-43 div.sk-toggleable__content {max-height: 0;max-width: 0;overflow: hidden;text-align: left;background-color: #f0f8ff;}#sk-container-id-43 div.sk-toggleable__content pre {margin: 0.2em;color: black;border-radius: 0.25em;background-color: #f0f8ff;}#sk-container-id-43 input.sk-toggleable__control:checked~div.sk-toggleable__content {max-height: 200px;max-width: 100%;overflow: auto;}#sk-container-id-43 input.sk-toggleable__control:checked~label.sk-toggleable__label-arrow:before {content: \"▾\";}#sk-container-id-43 div.sk-estimator input.sk-toggleable__control:checked~label.sk-toggleable__label {background-color: #d4ebff;}#sk-container-id-43 div.sk-label input.sk-toggleable__control:checked~label.sk-toggleable__label {background-color: #d4ebff;}#sk-container-id-43 input.sk-hidden--visually {border: 0;clip: rect(1px 1px 1px 1px);clip: rect(1px, 1px, 1px, 1px);height: 1px;margin: -1px;overflow: hidden;padding: 0;position: absolute;width: 1px;}#sk-container-id-43 div.sk-estimator {font-family: monospace;background-color: #f0f8ff;border: 1px dotted black;border-radius: 0.25em;box-sizing: border-box;margin-bottom: 0.5em;}#sk-container-id-43 div.sk-estimator:hover {background-color: #d4ebff;}#sk-container-id-43 div.sk-parallel-item::after {content: \"\";width: 100%;border-bottom: 1px solid gray;flex-grow: 1;}#sk-container-id-43 div.sk-label:hover label.sk-toggleable__label {background-color: #d4ebff;}#sk-container-id-43 div.sk-serial::before {content: \"\";position: absolute;border-left: 1px solid gray;box-sizing: border-box;top: 0;bottom: 0;left: 50%;z-index: 0;}#sk-container-id-43 div.sk-serial {display: flex;flex-direction: column;align-items: center;background-color: white;padding-right: 0.2em;padding-left: 0.2em;position: relative;}#sk-container-id-43 div.sk-item {position: relative;z-index: 1;}#sk-container-id-43 div.sk-parallel {display: flex;align-items: stretch;justify-content: center;background-color: white;position: relative;}#sk-container-id-43 div.sk-item::before, #sk-container-id-43 div.sk-parallel-item::before {content: \"\";position: absolute;border-left: 1px solid gray;box-sizing: border-box;top: 0;bottom: 0;left: 50%;z-index: -1;}#sk-container-id-43 div.sk-parallel-item {display: flex;flex-direction: column;z-index: 1;position: relative;background-color: white;}#sk-container-id-43 div.sk-parallel-item:first-child::after {align-self: flex-end;width: 50%;}#sk-container-id-43 div.sk-parallel-item:last-child::after {align-self: flex-start;width: 50%;}#sk-container-id-43 div.sk-parallel-item:only-child::after {width: 0;}#sk-container-id-43 div.sk-dashed-wrapped {border: 1px dashed gray;margin: 0 0.4em 0.5em 0.4em;box-sizing: border-box;padding-bottom: 0.4em;background-color: white;}#sk-container-id-43 div.sk-label label {font-family: monospace;font-weight: bold;display: inline-block;line-height: 1.2em;}#sk-container-id-43 div.sk-label-container {text-align: center;}#sk-container-id-43 div.sk-container {/* jupyter's `normalize.less` sets `[hidden] { display: none; }` but bootstrap.min.css set `[hidden] { display: none !important; }` so we also need the `!important` here to be able to override the default hidden behavior on the sphinx rendered scikit-learn.org. See: https://github.com/scikit-learn/scikit-learn/issues/21755 */display: inline-block !important;position: relative;}#sk-container-id-43 div.sk-text-repr-fallback {display: none;}</style><div id=\"sk-container-id-43\" class=\"sk-top-container\"><div class=\"sk-text-repr-fallback\"><pre>MLPDropout(batch_size=100, dropout=0.2, learning_rate_init=0.1, max_iter=60,\n",
       "           solver=&#x27;sgd&#x27;, verbose=10)</pre><b>In a Jupyter environment, please rerun this cell to show the HTML representation or trust the notebook. <br />On GitHub, the HTML representation is unable to render, please try loading this page with nbviewer.org.</b></div><div class=\"sk-container\" hidden><div class=\"sk-item\"><div class=\"sk-estimator sk-toggleable\"><input class=\"sk-toggleable__control sk-hidden--visually\" id=\"sk-estimator-id-43\" type=\"checkbox\" checked><label for=\"sk-estimator-id-43\" class=\"sk-toggleable__label sk-toggleable__label-arrow\">MLPDropout</label><div class=\"sk-toggleable__content\"><pre>MLPDropout(batch_size=100, dropout=0.2, learning_rate_init=0.1, max_iter=60,\n",
       "           solver=&#x27;sgd&#x27;, verbose=10)</pre></div></div></div></div></div>"
      ],
      "text/plain": [
       "MLPDropout(batch_size=100, dropout=0.2, learning_rate_init=0.1, max_iter=60,\n",
       "           solver='sgd', verbose=10)"
      ]
     },
     "execution_count": 150,
     "metadata": {},
     "output_type": "execute_result"
    }
   ],
   "source": [
    "MLPDropout(\n",
    "    hidden_layer_sizes=(100,),# here is the number of hidden layers, in this case 100 neurons in one layer\n",
    "    max_iter=60,              # number of trainning steps\n",
    "    solver='sgd',              # optimization algorithm, gradient descent\n",
    "    verbose=10,                # quantity of trainning output\n",
    "    learning_rate_init=0.1,    # initial learning_rate, updates network weights\n",
    "    batch_size=100,\n",
    "    alpha=0.0001,\n",
    "    dropout=0.2\n",
    ")"
   ]
  },
  {
   "cell_type": "code",
   "execution_count": 151,
   "id": "eb461b33-dbfd-4ac0-8dfa-76ddc25b3a49",
   "metadata": {},
   "outputs": [
    {
     "name": "stdout",
     "output_type": "stream",
     "text": [
      "Iteration 1, loss = 0.25968803\n",
      "Iteration 2, loss = 0.11451923\n",
      "Iteration 3, loss = 0.08308565\n",
      "Iteration 4, loss = 0.06198894\n",
      "Iteration 5, loss = 0.05107391\n",
      "Iteration 6, loss = 0.03912944\n",
      "Iteration 7, loss = 0.03435494\n",
      "Iteration 8, loss = 0.02672402\n",
      "Iteration 9, loss = 0.02405690\n",
      "Iteration 10, loss = 0.01712687\n",
      "Iteration 11, loss = 0.01398475\n",
      "Iteration 12, loss = 0.01073988\n",
      "Iteration 13, loss = 0.00833145\n",
      "Iteration 14, loss = 0.00802781\n",
      "Iteration 15, loss = 0.00613875\n",
      "Iteration 16, loss = 0.00367557\n",
      "Iteration 17, loss = 0.00208726\n",
      "Iteration 18, loss = 0.00175754\n",
      "Iteration 19, loss = 0.00157931\n",
      "Iteration 20, loss = 0.00148814\n",
      "Iteration 21, loss = 0.00141628\n",
      "Iteration 22, loss = 0.00136796\n",
      "Iteration 23, loss = 0.00130957\n",
      "Iteration 24, loss = 0.00128841\n",
      "Iteration 25, loss = 0.00124380\n",
      "Iteration 26, loss = 0.00122518\n",
      "Iteration 27, loss = 0.00119511\n",
      "Iteration 28, loss = 0.00117547\n",
      "Iteration 29, loss = 0.00115463\n",
      "Iteration 30, loss = 0.00113586\n",
      "Training loss did not improve more than tol=0.000100 for 10 consecutive epochs. Stopping.\n",
      "Acurácia do MLP: 97.83%\n"
     ]
    }
   ],
   "source": [
    "mlp.fit(X_train, y_train)\n",
    "predictions = mlp.predict(X_test)\n",
    "acc = accuracy_score(y_test, predictions)\n",
    "print(\"Acurácia do MLP: {:.2f}%\".format(acc * 100))"
   ]
  },
  {
   "cell_type": "code",
   "execution_count": null,
   "id": "3aaf00da-de27-4ae3-967d-f420947d56dd",
   "metadata": {},
   "outputs": [],
   "source": []
  }
 ],
 "metadata": {
  "kernelspec": {
   "display_name": "Python 3 (ipykernel)",
   "language": "python",
   "name": "python3"
  },
  "language_info": {
   "codemirror_mode": {
    "name": "ipython",
    "version": 3
   },
   "file_extension": ".py",
   "mimetype": "text/x-python",
   "name": "python",
   "nbconvert_exporter": "python",
   "pygments_lexer": "ipython3",
   "version": "3.11.7"
  }
 },
 "nbformat": 4,
 "nbformat_minor": 5
}

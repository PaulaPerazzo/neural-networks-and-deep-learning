{
  "cells": [
    {
      "cell_type": "markdown",
      "metadata": {
        "id": "oa4zL-QJRSbw"
      },
      "source": [
        "# Mini-Projeto: Reconhecimento de Dígitos Manuscritos com CNN\n",
        "\n",
        "## Integrantes do Grupo\n",
        "\n",
        "- Maurício Sightman\n",
        "- Paula\n",
        "- Daniel\n",
        "- Pedro\n",
        "\n",
        "## Descrição do Projeto\n",
        "\n",
        "Este projeto tem como objetivo aprender os conceitos básicos da arquitetura de Redes Neurais Convolucionais (CNN) utilizando o Google Colab. Para isso, usaremos o conjunto de dados MNIST, que é amplamente utilizado para o reconhecimento de dígitos manuscritos. Através deste mini-projeto, esperamos compreender melhor como as CNNs funcionam e como podem ser aplicadas para resolver problemas de classificação de imagens.\n",
        "\n",
        "## Estrutura do Projeto\n",
        "\n",
        "1. **Importação de Bibliotecas**: Importar todas as bibliotecas necessárias para o projeto, como TensorFlow, Keras, NumPy, Matplotlib, entre outras.\n",
        "2. **Carregamento e Pré-processamento dos Dados**: Carregar o conjunto de dados MNIST e realizar o pré-processamento necessário.\n",
        "3. **Construção, treinamento e avaliação de diferentes modelos de Redes Neurais**: Evolução da arquitetura de redes neurais utilizando CNN.\n",
        "4. **Gridsearch**: Treinamento usando técnica de gridsearch.\n",
        "5. **Comparativos**: Comparação dos diferentes modelos.\n"
      ]
    },
    {
      "cell_type": "code",
      "execution_count": 335,
      "metadata": {
        "id": "IlzXTpH5Ecsf"
      },
      "outputs": [],
      "source": [
        "import torch\n",
        "import torch.nn as nn\n",
        "import torch.optim as optim\n",
        "import torchvision\n",
        "import numpy as np\n",
        "import torchvision.transforms as transforms\n",
        "import matplotlib.pyplot as plt\n",
        "import torch.nn.functional as F\n",
        "from torch.utils.data import Dataset\n",
        "import seaborn as sns\n",
        "from sklearn.metrics import precision_score, recall_score, f1_score, confusion_matrix, accuracy_score\n",
        "from sklearn.model_selection import ParameterGrid\n",
        "import pandas as pd\n",
        "import time\n",
        "import random"
      ]
    },
    {
      "cell_type": "code",
      "execution_count": 336,
      "metadata": {},
      "outputs": [
        {
          "data": {
            "text/plain": [
              "<torch._C.Generator at 0x115239850>"
            ]
          },
          "execution_count": 336,
          "metadata": {},
          "output_type": "execute_result"
        }
      ],
      "source": [
        "RANDOM_SEED = 33\n",
        "np.random.seed(RANDOM_SEED)\n",
        "torch.manual_seed(RANDOM_SEED)"
      ]
    },
    {
      "cell_type": "code",
      "execution_count": 255,
      "metadata": {},
      "outputs": [],
      "source": [
        "results = []"
      ]
    },
    {
      "cell_type": "markdown",
      "metadata": {
        "id": "xg5YZBAmh8oN"
      },
      "source": [
        "### **Carregamento e Pré-processamento dos Dados**\n"
      ]
    },
    {
      "cell_type": "code",
      "execution_count": 337,
      "metadata": {
        "collapsed": true,
        "id": "nGN4FmuPKe3u"
      },
      "outputs": [],
      "source": [
        "transform = transforms.Compose([\n",
        "    transforms.ToTensor(),\n",
        "    transforms.Normalize((0.5,), (0.5,))\n",
        "])\n",
        "\n",
        "full_dataset = torchvision.datasets.MNIST(root='./data', train=True, transform=transform, download=True)\n",
        "test_dataset = torchvision.datasets.MNIST(root='./data', train=False, transform=transform, download=True)\n",
        "\n",
        "train_size = int(0.8 * len(full_dataset))\n",
        "val_size = len(full_dataset) - train_size\n",
        "\n",
        "train_dataset, val_dataset = torch.utils.data.random_split(\n",
        "    full_dataset, [train_size, val_size])"
      ]
    },
    {
      "cell_type": "code",
      "execution_count": 338,
      "metadata": {
        "id": "gufU6-maUzxS"
      },
      "outputs": [],
      "source": [
        "batch_size = 10"
      ]
    },
    {
      "cell_type": "code",
      "execution_count": 339,
      "metadata": {
        "id": "4fB4M3PX7gzt"
      },
      "outputs": [],
      "source": [
        "train_loader = torch.utils.data.DataLoader(train_dataset, batch_size=batch_size, shuffle=True)\n",
        "val_loader = torch.utils.data.DataLoader(val_dataset, batch_size=batch_size, shuffle=False)\n",
        "test_loader = torch.utils.data.DataLoader(test_dataset, batch_size=batch_size, shuffle=False)"
      ]
    },
    {
      "cell_type": "code",
      "execution_count": 340,
      "metadata": {
        "colab": {
          "base_uri": "https://localhost:8080/"
        },
        "id": "Li7o_EuGLzCN",
        "outputId": "6d53255f-464d-4240-c4c3-ab20ea5981aa"
      },
      "outputs": [
        {
          "name": "stdout",
          "output_type": "stream",
          "text": [
            "48000 12000 10000\n"
          ]
        }
      ],
      "source": [
        "print(len(train_dataset), len(val_dataset), len(test_dataset))"
      ]
    },
    {
      "cell_type": "code",
      "execution_count": 341,
      "metadata": {
        "colab": {
          "base_uri": "https://localhost:8080/"
        },
        "id": "WZxOAMGmOtok",
        "outputId": "165180ca-bea6-43a4-c4eb-8bf5f6e1d012"
      },
      "outputs": [
        {
          "data": {
            "text/plain": [
              "torch.Size([1, 28, 28])"
            ]
          },
          "execution_count": 341,
          "metadata": {},
          "output_type": "execute_result"
        }
      ],
      "source": [
        "train_dataset[0][0].shape"
      ]
    },
    {
      "cell_type": "code",
      "execution_count": 342,
      "metadata": {
        "colab": {
          "base_uri": "https://localhost:8080/",
          "height": 402
        },
        "id": "iZd9NfljLjEW",
        "outputId": "429ed1fd-18b6-4d03-be76-7d3fb6c45519"
      },
      "outputs": [
        {
          "data": {
            "image/png": "[encoded data removed]",
            "text/plain": [
              "<Figure size 1000x500 with 10 Axes>"
            ]
          },
          "metadata": {},
          "output_type": "display_data"
        }
      ],
      "source": [
        "label_to_image = {}\n",
        "\n",
        "for image, label in train_dataset:\n",
        "    if label not in label_to_image:\n",
        "        label_to_image[label] = image\n",
        "\n",
        "plt.figure(figsize=(10, 5))\n",
        "for i, (label, image) in enumerate(label_to_image.items()):\n",
        "    plt.subplot(2, 5, i + 1)\n",
        "    plt.title(f'Label: {label}')\n",
        "    plt.imshow(image.squeeze().numpy(), cmap='gray')\n",
        "    plt.axis('off')\n",
        "\n",
        "plt.show()"
      ]
    },
    {
      "cell_type": "markdown",
      "metadata": {
        "id": "oLr5b30_7ugU"
      },
      "source": [
        "### Functions\n"
      ]
    },
    {
      "cell_type": "code",
      "execution_count": 343,
      "metadata": {
        "id": "Dxb5ncS571OM"
      },
      "outputs": [],
      "source": [
        "use_cuda = torch.cuda.is_available()\n",
        "if use_cuda:\n",
        "  device = torch.device(\"cuda\")\n",
        "else:\n",
        "  device = torch.device(\"cpu\")"
      ]
    },
    {
      "cell_type": "code",
      "execution_count": 344,
      "metadata": {
        "id": "VHrN9x81V3VE"
      },
      "outputs": [],
      "source": [
        "# Implementação do Early Stopping\n",
        "class EarlyStopping:\n",
        "  def __init__(self, patience=7, delta=0, verbose=True, path='checkpoint.pt'):\n",
        "      self.patience = patience\n",
        "      self.delta = delta\n",
        "      self.verbose = verbose\n",
        "      self.counter = 0\n",
        "      self.early_stop = False\n",
        "      self.val_min_loss = np.Inf\n",
        "      self.path = path\n",
        "\n",
        "  def __call__(self, val_loss, model):\n",
        "    if val_loss < self.val_min_loss - self.delta:   # Caso a loss da validação reduza, vamos salvar o modelo e nova loss mínima\n",
        "      self.save_checkpoint(val_loss, model)\n",
        "      self.counter = 0\n",
        "    else:                                           # Caso a loss da validação NÃO reduza, vamos incrementar o contador da paciencia\n",
        "      self.counter += 1\n",
        "      print(f'EarlyStopping counter: {self.counter} out of {self.patience}. Current validation loss: {val_loss:.5f}')\n",
        "      if self.counter >= self.patience:\n",
        "          self.early_stop = True\n",
        "\n",
        "  def save_checkpoint(self, val_loss, model):\n",
        "    if self.verbose:\n",
        "        print(f'Validation loss decreased ({self.val_min_loss:.5f} --> {val_loss:.5f}).  Saving model ...')\n",
        "    torch.save(model, self.path)\n",
        "    self.val_min_loss = val_loss"
      ]
    },
    {
      "cell_type": "code",
      "execution_count": 345,
      "metadata": {
        "id": "KQn2OLSikcE3"
      },
      "outputs": [],
      "source": [
        "# Curva de perda vs validação\n",
        "def plot_train_val_losses(train_avg_losses, val_avg_losses):\n",
        "  epochs = list(range(1, len(train_avg_losses)+1))\n",
        "  plt.plot(epochs, train_avg_losses, color='blue', label='Loss do treino')\n",
        "  plt.plot(epochs, val_avg_losses, color='orange', label='Loss da validação')\n",
        "  plt.title('Losses de treino e validação por época de treinamento')\n",
        "  plt.legend()"
      ]
    },
    {
      "cell_type": "code",
      "execution_count": 346,
      "metadata": {
        "id": "eW8wMWplXHKS"
      },
      "outputs": [],
      "source": [
        "# Acurácia por label\n",
        "def plot_accuracy_per_label(y_true, y_pred, output_size=10):\n",
        "    cm = confusion_matrix(y_true, y_pred)\n",
        "    class_accuracies = cm.diagonal() / cm.sum(axis=1)\n",
        "\n",
        "    plt.figure(figsize=(10, 8))\n",
        "    sns.heatmap(cm, annot=True, fmt='d', cmap='Blues', xticklabels=range(output_size), yticklabels=range(output_size))\n",
        "    plt.xlabel('Predicted Label')\n",
        "    plt.ylabel('True Label')\n",
        "    plt.title('Confusion Matrix')\n",
        "    plt.show()"
      ]
    },
    {
      "cell_type": "code",
      "execution_count": 347,
      "metadata": {
        "id": "L6UWRSeGXXHU"
      },
      "outputs": [],
      "source": [
        "# Metrícas do conjunto de teste\n",
        "def test_and_get_metrics(model, test_loader, device='cpu'):\n",
        "    model.eval()\n",
        "    model.to(device)\n",
        "\n",
        "    test_loss = 0\n",
        "    correct = 0\n",
        "    all_preds = []\n",
        "    all_targets = []\n",
        "\n",
        "    criterion = nn.CrossEntropyLoss()\n",
        "\n",
        "    with torch.no_grad():\n",
        "        for data, target in test_loader:\n",
        "            data, target = data.to(device), target.to(device)\n",
        "            outputs = model(data)\n",
        "            loss = criterion(outputs, target)\n",
        "            test_loss += loss.item()\n",
        "            pred = outputs.argmax(dim=1, keepdim=True)\n",
        "            correct += pred.eq(target.view_as(pred)).sum().item()\n",
        "            all_preds.extend(pred.cpu().numpy())\n",
        "            all_targets.extend(target.cpu().numpy())\n",
        "\n",
        "    test_loss /= len(test_loader.dataset)\n",
        "\n",
        "    y_pred = np.array(all_preds).squeeze()\n",
        "    y_true = np.array(all_targets)\n",
        "\n",
        "    acc = accuracy_score(y_true, y_pred)\n",
        "    precision = precision_score(y_true, y_pred, average='weighted')\n",
        "    tpr = recall_score(y_true, y_pred, average='weighted')\n",
        "    f1 = f1_score(y_true, y_pred, average='weighted')\n",
        "\n",
        "    return {\n",
        "        'acc':acc,\n",
        "        'tpr':tpr,\n",
        "        'precision':precision,\n",
        "        'f1-score':f1,\n",
        "        'y_true':y_true,\n",
        "        'y_pred':y_pred,\n",
        "        'loss':test_loss,\n",
        "    }"
      ]
    },
    {
      "cell_type": "code",
      "execution_count": 348,
      "metadata": {},
      "outputs": [],
      "source": [
        "# Expande o data fazendo transformações\n",
        "def expand_mnist_dataset(train_dataset):\n",
        "    expanded_training_pairs = []\n",
        "    print(\"Expanding the MNIST training set\")\n",
        "    \n",
        "    for i in range(len(train_dataset)):\n",
        "        image, label = train_dataset[i]\n",
        "        image = image.numpy().squeeze()\n",
        "        expanded_training_pairs.append((image.flatten(), label))\n",
        "        \n",
        "        for d, axis, index_position, index in [\n",
        "            (1, 0, \"first\", 0),\n",
        "            (-1, 0, \"first\", 27),\n",
        "            (1, 1, \"last\", 0),\n",
        "            (-1, 1, \"last\", 27)\n",
        "        ]:\n",
        "            new_img = np.roll(image, d, axis)\n",
        "            if index_position == \"first\":\n",
        "                new_img[index, :] = np.zeros(28)\n",
        "            else:\n",
        "                new_img[:, index] = np.zeros(28)\n",
        "            expanded_training_pairs.append((new_img.flatten(), label))\n",
        "\n",
        "    random.shuffle(expanded_training_pairs)\n",
        "    expanded_images, expanded_labels = zip(*expanded_training_pairs)\n",
        "    expanded_images = np.array(expanded_images)\n",
        "    expanded_labels = np.array(expanded_labels)\n",
        "\n",
        "    return expanded_images, expanded_labels"
      ]
    },
    {
      "cell_type": "code",
      "execution_count": 15,
      "metadata": {},
      "outputs": [],
      "source": [
        "class ExpandedMNISTDataset(Dataset):\n",
        "    def __init__(self, images, labels, transform=None):\n",
        "        self.images = images\n",
        "        self.labels = labels\n",
        "        self.transform = transform\n",
        "    \n",
        "    def __len__(self):\n",
        "        return len(self.images)\n",
        "    \n",
        "    def __getitem__(self, idx):\n",
        "        image = self.images[idx].reshape(28, 28).astype(np.float32)\n",
        "        label = self.labels[idx]\n",
        "        \n",
        "        if self.transform:\n",
        "            image = self.transform(image)\n",
        "        \n",
        "        return image, label"
      ]
    },
    {
      "cell_type": "markdown",
      "metadata": {
        "id": "iKV4vmrhiI0S"
      },
      "source": [
        "### MLP (Sigmoid)\n"
      ]
    },
    {
      "cell_type": "code",
      "execution_count": 349,
      "metadata": {
        "id": "SjbyU7v1KJ41"
      },
      "outputs": [],
      "source": [
        "class SingleHiddenLayerNN(nn.Module):\n",
        "    def __init__(self, in_features, dropout_rate=0.):\n",
        "        super(SingleHiddenLayerNN, self).__init__()\n",
        "        self.early_stopping = None\n",
        "        self.net = nn.Sequential(\n",
        "          nn.Flatten(),\n",
        "          nn.Linear(in_features, 100),\n",
        "          nn.Sigmoid(),\n",
        "          nn.Dropout(dropout_rate),\n",
        "          nn.Linear(100, 10),\n",
        "        )\n",
        "\n",
        "    def forward(self, x):\n",
        "        output = self.net(x)\n",
        "        output = nn.functional.log_softmax(output, dim=1)\n",
        "        return output\n",
        "\n",
        "    def compile(self, learning_rate, weight_decay=0.0):\n",
        "      self.optimizer = optim.SGD(self.parameters(), weight_decay=weight_decay, lr=learning_rate)\n",
        "      self.criterion = nn.NLLLoss()\n",
        "\n",
        "    def fit(self, train_loader, num_epochs, val_loader = None, patience = None, delta = None):\n",
        "      if val_loader is not None and patience is not None and delta is not None:\n",
        "        print(f'Using early stopping with patience={patience} and delta={delta}')\n",
        "        self.early_stopping = EarlyStopping(patience, delta)\n",
        "\n",
        "      val_avg_losses = []\n",
        "      train_avg_losses = []\n",
        "      start_time = time.time()\n",
        "\n",
        "      for epoch in range(num_epochs):\n",
        "        # Calibrando os pesos do modelo\n",
        "        train_losses = []\n",
        "        self.train()\n",
        "        for batch_idx, (X, y) in enumerate(train_loader):\n",
        "          X, y = X.to(device), y.to(device)\n",
        "          output = self.forward(X)\n",
        "\n",
        "          train_loss = self.criterion(output, y)\n",
        "          self.optimizer.zero_grad()\n",
        "          train_loss.backward()\n",
        "          self.optimizer.step()\n",
        "          train_losses.append(train_loss.item())\n",
        "        train_avg_loss = np.mean(train_losses)\n",
        "        train_avg_losses.append(train_avg_loss)\n",
        "        print(f'Epoch#{epoch+1}: Train Average Loss = {train_avg_loss:.5f}')\n",
        "\n",
        "        # Mecanismo de early stopping\n",
        "        if self.early_stopping is not None:\n",
        "          val_losses = []\n",
        "          self.eval()\n",
        "          with torch.no_grad():\n",
        "            for batch_idx, (X, y) in enumerate(val_loader):\n",
        "              X, y = X.to(device), y.to(device)\n",
        "              output = self.forward(X)\n",
        "              val_loss = self.criterion(output, y)\n",
        "              val_losses.append(val_loss.item())\n",
        "          val_avg_loss = np.mean(val_losses)\n",
        "          val_avg_losses.append(val_avg_loss)\n",
        "          self.early_stopping(val_avg_loss, self)\n",
        "          if self.early_stopping.early_stop:\n",
        "            print(f'Stopped by early stopping at epoch {epoch+1}')\n",
        "            break\n",
        "\n",
        "      if self.early_stopping is not None:\n",
        "        self = torch.load('checkpoint.pt')\n",
        "      self.eval()\n",
        "\n",
        "      end_time = time.time()\n",
        "      training_time = end_time - start_time\n",
        "      return train_avg_losses, val_avg_losses, training_time\n",
        "\n",
        "\n",
        "    def test(self, test_loader):\n",
        "      test_losses = []\n",
        "      test_loss = 0\n",
        "      correct = 0\n",
        "      with torch.no_grad():\n",
        "        for data, target in test_loader:\n",
        "          data, target = data.to(device), target.to(device)\n",
        "          output = self.forward(data)\n",
        "          test_loss += F.nll_loss(output, target, size_average=False).item()\n",
        "          pred = output.data.max(1, keepdim=True)[1]\n",
        "          correct += pred.eq(target.data.view_as(pred)).sum()\n",
        "      test_loss /= len(test_loader.dataset)\n",
        "      test_losses.append(test_loss)\n",
        "      acc = 100. * correct / len(test_loader.dataset)\n",
        "      print('\\nTest set: Avg. loss: {:.4f}, Accuracy: {}/{} ({:.2f}%)\\n'.format(\n",
        "        test_loss, correct, len(test_loader.dataset),\n",
        "        acc))\n",
        "      return test_loss, acc, test_losses"
      ]
    },
    {
      "cell_type": "code",
      "execution_count": 350,
      "metadata": {
        "id": "oO3O7ex0Ta2R"
      },
      "outputs": [],
      "source": [
        "input_size = train_dataset[0][0].shape[1] * train_dataset[0][0].shape[2]\n",
        "learning_rate = 0.03\n",
        "weight_decay = 0.1\n",
        "dropout_rate = 0.\n",
        "num_epochs = 60\n",
        "patience = 10\n",
        "delta = 0.001"
      ]
    },
    {
      "cell_type": "code",
      "execution_count": 351,
      "metadata": {
        "id": "1ugF2tSoMqHL"
      },
      "outputs": [],
      "source": [
        "mlp = SingleHiddenLayerNN(input_size)\n",
        "mlp.compile(learning_rate = learning_rate)"
      ]
    },
    {
      "cell_type": "code",
      "execution_count": 352,
      "metadata": {
        "colab": {
          "base_uri": "https://localhost:8080/"
        },
        "id": "rt45hq3JVpzt",
        "outputId": "6a92a5dd-7687-455a-c4a8-195ebf5d39bf"
      },
      "outputs": [
        {
          "name": "stdout",
          "output_type": "stream",
          "text": [
            "Using early stopping with patience=10 and delta=0.001\n",
            "Epoch#1: Train Average Loss = 0.53665\n",
            "Validation loss decreased (inf --> 0.30523).  Saving model ...\n",
            "Epoch#2: Train Average Loss = 0.27761\n",
            "Validation loss decreased (0.30523 --> 0.24590).  Saving model ...\n",
            "Epoch#3: Train Average Loss = 0.22345\n",
            "Validation loss decreased (0.24590 --> 0.22448).  Saving model ...\n",
            "Epoch#4: Train Average Loss = 0.18852\n",
            "Validation loss decreased (0.22448 --> 0.18580).  Saving model ...\n",
            "Epoch#5: Train Average Loss = 0.16133\n",
            "Validation loss decreased (0.18580 --> 0.17058).  Saving model ...\n",
            "Epoch#6: Train Average Loss = 0.14199\n",
            "Validation loss decreased (0.17058 --> 0.14918).  Saving model ...\n",
            "Epoch#7: Train Average Loss = 0.12650\n",
            "Validation loss decreased (0.14918 --> 0.13293).  Saving model ...\n",
            "Epoch#8: Train Average Loss = 0.11452\n",
            "Validation loss decreased (0.13293 --> 0.12776).  Saving model ...\n",
            "Epoch#9: Train Average Loss = 0.10460\n",
            "Validation loss decreased (0.12776 --> 0.12325).  Saving model ...\n",
            "Epoch#10: Train Average Loss = 0.09621\n",
            "Validation loss decreased (0.12325 --> 0.11739).  Saving model ...\n",
            "Epoch#11: Train Average Loss = 0.08879\n",
            "Validation loss decreased (0.11739 --> 0.11042).  Saving model ...\n",
            "Epoch#12: Train Average Loss = 0.08205\n",
            "EarlyStopping counter: 1 out of 10. Current validation loss: 0.11074\n",
            "Epoch#13: Train Average Loss = 0.07688\n",
            "Validation loss decreased (0.11042 --> 0.10292).  Saving model ...\n",
            "Epoch#14: Train Average Loss = 0.07130\n",
            "Validation loss decreased (0.10292 --> 0.09916).  Saving model ...\n",
            "Epoch#15: Train Average Loss = 0.06658\n",
            "EarlyStopping counter: 1 out of 10. Current validation loss: 0.09838\n",
            "Epoch#16: Train Average Loss = 0.06345\n",
            "EarlyStopping counter: 2 out of 10. Current validation loss: 0.10221\n",
            "Epoch#17: Train Average Loss = 0.05985\n",
            "Validation loss decreased (0.09916 --> 0.09803).  Saving model ...\n",
            "Epoch#18: Train Average Loss = 0.05590\n",
            "EarlyStopping counter: 1 out of 10. Current validation loss: 0.09865\n",
            "Epoch#19: Train Average Loss = 0.05275\n",
            "Validation loss decreased (0.09803 --> 0.08912).  Saving model ...\n",
            "Epoch#20: Train Average Loss = 0.04993\n",
            "EarlyStopping counter: 1 out of 10. Current validation loss: 0.09074\n",
            "Epoch#21: Train Average Loss = 0.04710\n",
            "EarlyStopping counter: 2 out of 10. Current validation loss: 0.08865\n",
            "Epoch#22: Train Average Loss = 0.04484\n",
            "EarlyStopping counter: 3 out of 10. Current validation loss: 0.08973\n",
            "Epoch#23: Train Average Loss = 0.04240\n",
            "EarlyStopping counter: 4 out of 10. Current validation loss: 0.08938\n",
            "Epoch#24: Train Average Loss = 0.04039\n",
            "Validation loss decreased (0.08912 --> 0.08707).  Saving model ...\n",
            "Epoch#25: Train Average Loss = 0.03825\n",
            "EarlyStopping counter: 1 out of 10. Current validation loss: 0.08780\n",
            "Epoch#26: Train Average Loss = 0.03639\n",
            "Validation loss decreased (0.08707 --> 0.08457).  Saving model ...\n",
            "Epoch#27: Train Average Loss = 0.03479\n",
            "EarlyStopping counter: 1 out of 10. Current validation loss: 0.08445\n",
            "Epoch#28: Train Average Loss = 0.03328\n",
            "EarlyStopping counter: 2 out of 10. Current validation loss: 0.08384\n",
            "Epoch#29: Train Average Loss = 0.03114\n",
            "EarlyStopping counter: 3 out of 10. Current validation loss: 0.09266\n",
            "Epoch#30: Train Average Loss = 0.03004\n",
            "EarlyStopping counter: 4 out of 10. Current validation loss: 0.08362\n",
            "Epoch#31: Train Average Loss = 0.02852\n",
            "Validation loss decreased (0.08457 --> 0.08216).  Saving model ...\n",
            "Epoch#32: Train Average Loss = 0.02728\n",
            "EarlyStopping counter: 1 out of 10. Current validation loss: 0.08906\n",
            "Epoch#33: Train Average Loss = 0.02618\n",
            "EarlyStopping counter: 2 out of 10. Current validation loss: 0.08196\n",
            "Epoch#34: Train Average Loss = 0.02472\n",
            "EarlyStopping counter: 3 out of 10. Current validation loss: 0.08526\n",
            "Epoch#35: Train Average Loss = 0.02370\n",
            "EarlyStopping counter: 4 out of 10. Current validation loss: 0.08393\n",
            "Epoch#36: Train Average Loss = 0.02275\n",
            "EarlyStopping counter: 5 out of 10. Current validation loss: 0.08327\n",
            "Epoch#37: Train Average Loss = 0.02187\n",
            "EarlyStopping counter: 6 out of 10. Current validation loss: 0.08226\n",
            "Epoch#38: Train Average Loss = 0.02093\n",
            "EarlyStopping counter: 7 out of 10. Current validation loss: 0.08123\n",
            "Epoch#39: Train Average Loss = 0.02002\n",
            "EarlyStopping counter: 8 out of 10. Current validation loss: 0.08232\n",
            "Epoch#40: Train Average Loss = 0.01942\n",
            "EarlyStopping counter: 9 out of 10. Current validation loss: 0.08247\n",
            "Epoch#41: Train Average Loss = 0.01853\n",
            "Validation loss decreased (0.08216 --> 0.08105).  Saving model ...\n",
            "Epoch#42: Train Average Loss = 0.01771\n",
            "EarlyStopping counter: 1 out of 10. Current validation loss: 0.08142\n",
            "Epoch#43: Train Average Loss = 0.01683\n",
            "EarlyStopping counter: 2 out of 10. Current validation loss: 0.08060\n",
            "Epoch#44: Train Average Loss = 0.01620\n",
            "EarlyStopping counter: 3 out of 10. Current validation loss: 0.08155\n",
            "Epoch#45: Train Average Loss = 0.01579\n",
            "EarlyStopping counter: 4 out of 10. Current validation loss: 0.08067\n",
            "Epoch#46: Train Average Loss = 0.01494\n",
            "EarlyStopping counter: 5 out of 10. Current validation loss: 0.08050\n",
            "Epoch#47: Train Average Loss = 0.01468\n",
            "EarlyStopping counter: 6 out of 10. Current validation loss: 0.08260\n",
            "Epoch#48: Train Average Loss = 0.01401\n",
            "Validation loss decreased (0.08105 --> 0.07947).  Saving model ...\n",
            "Epoch#49: Train Average Loss = 0.01344\n",
            "EarlyStopping counter: 1 out of 10. Current validation loss: 0.08217\n",
            "Epoch#50: Train Average Loss = 0.01302\n",
            "EarlyStopping counter: 2 out of 10. Current validation loss: 0.08221\n",
            "Epoch#51: Train Average Loss = 0.01255\n",
            "EarlyStopping counter: 3 out of 10. Current validation loss: 0.08279\n",
            "Epoch#52: Train Average Loss = 0.01216\n",
            "EarlyStopping counter: 4 out of 10. Current validation loss: 0.08153\n",
            "Epoch#53: Train Average Loss = 0.01170\n",
            "EarlyStopping counter: 5 out of 10. Current validation loss: 0.08079\n",
            "Epoch#54: Train Average Loss = 0.01132\n",
            "EarlyStopping counter: 6 out of 10. Current validation loss: 0.08208\n",
            "Epoch#55: Train Average Loss = 0.01100\n",
            "EarlyStopping counter: 7 out of 10. Current validation loss: 0.08127\n",
            "Epoch#56: Train Average Loss = 0.01054\n",
            "EarlyStopping counter: 8 out of 10. Current validation loss: 0.08085\n",
            "Epoch#57: Train Average Loss = 0.01034\n",
            "EarlyStopping counter: 9 out of 10. Current validation loss: 0.08195\n",
            "Epoch#58: Train Average Loss = 0.00994\n",
            "EarlyStopping counter: 10 out of 10. Current validation loss: 0.08117\n",
            "Stopped by early stopping at epoch 58\n"
          ]
        }
      ],
      "source": [
        "mlp_train_avg_losses, mlp_val_avg_losses, mlp_training_time = mlp.fit(train_loader, num_epochs, val_loader, patience, delta)"
      ]
    },
    {
      "cell_type": "code",
      "execution_count": 353,
      "metadata": {
        "colab": {
          "base_uri": "https://localhost:8080/",
          "height": 453
        },
        "id": "wDLv0hNyj4eF",
        "outputId": "84174ee6-cf02-4e22-a194-f24166454d93"
      },
      "outputs": [
        {
          "data": {
            "image/png": "[encoded data removed]",
            "text/plain": [
              "<Figure size 640x480 with 1 Axes>"
            ]
          },
          "metadata": {},
          "output_type": "display_data"
        }
      ],
      "source": [
        "plot_train_val_losses(mlp_train_avg_losses, mlp_val_avg_losses)"
      ]
    },
    {
      "cell_type": "code",
      "execution_count": 354,
      "metadata": {},
      "outputs": [
        {
          "name": "stderr",
          "output_type": "stream",
          "text": [
            "/Users/mauriciosightman/Library/Python/3.9/lib/python/site-packages/torch/nn/_reduction.py:42: UserWarning: size_average and reduce args will be deprecated, please use reduction='sum' instead.\n",
            "  warnings.warn(warning.format(ret))\n"
          ]
        },
        {
          "name": "stdout",
          "output_type": "stream",
          "text": [
            "\n",
            "Test set: Avg. loss: 0.0719, Accuracy: 9784/10000 (97.84%)\n",
            "\n"
          ]
        },
        {
          "data": {
            "text/plain": [
              "(0.07185851127314673, tensor(97.8400), [0.07185851127314673])"
            ]
          },
          "execution_count": 354,
          "metadata": {},
          "output_type": "execute_result"
        }
      ],
      "source": [
        "mlp.test(test_loader)"
      ]
    },
    {
      "cell_type": "code",
      "execution_count": 355,
      "metadata": {
        "colab": {
          "base_uri": "https://localhost:8080/"
        },
        "id": "zkwcT7mRodPx",
        "outputId": "d9fca1c3-e8ca-45b2-cabf-244a0092d25d"
      },
      "outputs": [
        {
          "data": {
            "text/plain": [
              "{'acc': 0.9784,\n",
              " 'tpr': 0.9784,\n",
              " 'precision': 0.9784110837862092,\n",
              " 'f1-score': 0.9783974054160656,\n",
              " 'y_true': array([7, 2, 1, ..., 4, 5, 6]),\n",
              " 'y_pred': array([7, 2, 1, ..., 4, 5, 6]),\n",
              " 'loss': 0.0071858511173191805}"
            ]
          },
          "execution_count": 355,
          "metadata": {},
          "output_type": "execute_result"
        }
      ],
      "source": [
        "mlp_model_metrics = test_and_get_metrics(mlp, test_loader, device)\n",
        "\n",
        "results.append({\n",
        "    'model': 'mlp_model',\n",
        "    'train_avg_losses': mlp_train_avg_losses,\n",
        "    'val_avg_losses': mlp_val_avg_losses,\n",
        "    'training_time': mlp_training_time,\n",
        "    'learning_rate': learning_rate,\n",
        "    'dropout_rate': dropout_rate,\n",
        "    'acc':mlp_model_metrics['acc'],\n",
        "    'tpr':mlp_model_metrics['tpr'],\n",
        "    'precision':mlp_model_metrics['precision'],\n",
        "    'f1-score':mlp_model_metrics['f1-score'],\n",
        "    'y_true':mlp_model_metrics['y_true'],\n",
        "    'y_pred':mlp_model_metrics['y_pred'],\n",
        "    'loss':mlp_model_metrics['loss'],\n",
        "})\n",
        "\n",
        "mlp_model_metrics"
      ]
    },
    {
      "cell_type": "markdown",
      "metadata": {
        "id": "pO_oMr7ChWOr"
      },
      "source": [
        "### CNN 1 (Sigmoid)\n"
      ]
    },
    {
      "cell_type": "code",
      "execution_count": 356,
      "metadata": {
        "id": "zn65gLF748Nh"
      },
      "outputs": [],
      "source": [
        "class OneConvNN(nn.Module):\n",
        "    def __init__(self, in_features, dropout_rate=0.):\n",
        "        super(OneConvNN, self).__init__()\n",
        "        self.early_stopping = True\n",
        "        self.conv1 = nn.Conv2d(in_channels=1, out_channels=20, kernel_size=5, stride=1)\n",
        "        self.pool = nn.MaxPool2d(kernel_size=2, stride=2)\n",
        "        self.net = nn.Sequential(\n",
        "          nn.Linear(20*12*12, 100),\n",
        "          nn.Sigmoid(),\n",
        "          nn.Dropout(dropout_rate),\n",
        "          nn.Linear(100, 10),\n",
        "        )\n",
        "\n",
        "    def forward(self, x):\n",
        "        x = F.sigmoid(self.pool(self.conv1(x)))\n",
        "        x = torch.flatten(x, 1)\n",
        "        x = self.net(x)\n",
        "        x = nn.functional.log_softmax(x, dim=1)\n",
        "        return x\n",
        "\n",
        "    def compile(self, learning_rate, weight_decay=0.0):\n",
        "      self.optimizer = optim.SGD(self.parameters(), weight_decay=weight_decay, lr=learning_rate)\n",
        "      self.criterion = nn.NLLLoss()\n",
        "\n",
        "    def fit(self, train_loader, num_epochs, val_loader = None, patience = None, delta = None):\n",
        "      if val_loader is not None and patience is not None and delta is not None:\n",
        "        print(f'Using early stopping with patience={patience} and delta={delta}')\n",
        "        self.early_stopping = EarlyStopping(patience, delta)\n",
        "\n",
        "      val_avg_losses = []\n",
        "      train_avg_losses = []\n",
        "      start_time = time.time()\n",
        "\n",
        "      for epoch in range(num_epochs):\n",
        "        # Calibrando os pesos do modelo\n",
        "        train_losses = []\n",
        "        self.train()\n",
        "        for batch_idx, (X, y) in enumerate(train_loader):\n",
        "          X, y = X.to(device), y.to(device)\n",
        "          output = self.forward(X)\n",
        "\n",
        "          train_loss = self.criterion(output, y) \n",
        "          self.optimizer.zero_grad()\n",
        "          train_loss.backward()\n",
        "          self.optimizer.step()\n",
        "          train_losses.append(train_loss.item())\n",
        "        train_avg_loss = np.mean(train_losses)\n",
        "        train_avg_losses.append(train_avg_loss)\n",
        "        print(f'Epoch#{epoch+1}: Train Average Loss = {train_avg_loss:.5f}')\n",
        "\n",
        "        # Mecanismo de early stopping\n",
        "        if self.early_stopping is not None:\n",
        "          val_losses = []\n",
        "          self.eval()\n",
        "          with torch.no_grad():\n",
        "            for batch_idx, (X, y) in enumerate(val_loader):\n",
        "              X, y = X.to(device), y.to(device)\n",
        "              output = self.forward(X)\n",
        "              val_loss = self.criterion(output, y)\n",
        "              val_losses.append(val_loss.item())\n",
        "          val_avg_loss = np.mean(val_losses)\n",
        "          val_avg_losses.append(val_avg_loss)\n",
        "          self.early_stopping(val_avg_loss, self)\n",
        "          if self.early_stopping.early_stop:\n",
        "            print(f'Stopped by early stopping at epoch {epoch+1}')\n",
        "            break\n",
        "\n",
        "      if self.early_stopping is not None:\n",
        "        self = torch.load('checkpoint.pt')\n",
        "      self.eval()\n",
        "\n",
        "      end_time = time.time()\n",
        "      training_time = end_time - start_time\n",
        "      return train_avg_losses, val_avg_losses, training_time\n",
        "\n",
        "\n",
        "    def test(self, test_loader):\n",
        "      test_losses = []\n",
        "      test_loss = 0\n",
        "      correct = 0\n",
        "      with torch.no_grad():\n",
        "        for data, target in test_loader:\n",
        "          data, target = data.to(device), target.to(device)\n",
        "          output = self.forward(data)\n",
        "          test_loss += F.nll_loss(output, target, size_average=False).item()\n",
        "          pred = output.data.max(1, keepdim=True)[1]\n",
        "          correct += pred.eq(target.data.view_as(pred)).sum()\n",
        "      test_loss /= len(test_loader.dataset)\n",
        "      test_losses.append(test_loss)\n",
        "      acc = 100. * correct / len(test_loader.dataset)\n",
        "      print('\\nTest set: Avg. loss: {:.4f}, Accuracy: {}/{} ({:.2f}%)\\n'.format(\n",
        "        test_loss, correct, len(test_loader.dataset),\n",
        "        acc))\n",
        "      return test_loss, acc, test_losses\n"
      ]
    },
    {
      "cell_type": "code",
      "execution_count": 357,
      "metadata": {
        "id": "VYKTzo3LVGBV"
      },
      "outputs": [],
      "source": [
        "input_size = train_dataset[0][0].shape[1] * train_dataset[0][0].shape[2]\n",
        "learning_rate = 0.03\n",
        "weight_decay = 0.1\n",
        "dropout_rate = 0.\n",
        "num_epochs = 60\n",
        "patience = 10\n",
        "delta = 0.001"
      ]
    },
    {
      "cell_type": "code",
      "execution_count": 358,
      "metadata": {
        "id": "mlM31mCN8G7O"
      },
      "outputs": [],
      "source": [
        "model_ccn_1 = OneConvNN(input_size).to(device)\n",
        "model_ccn_1.compile(learning_rate = learning_rate)"
      ]
    },
    {
      "cell_type": "code",
      "execution_count": 360,
      "metadata": {
        "colab": {
          "base_uri": "https://localhost:8080/"
        },
        "id": "YVDy1_kreST7",
        "outputId": "77a21edd-659e-458e-fccd-ea93ab79fb4c"
      },
      "outputs": [
        {
          "name": "stdout",
          "output_type": "stream",
          "text": [
            "Using early stopping with patience=5 and delta=0.001\n",
            "Epoch#1: Train Average Loss = 0.13407\n",
            "Validation loss decreased (inf --> 0.12184).  Saving model ...\n",
            "Epoch#2: Train Average Loss = 0.11034\n",
            "Validation loss decreased (0.12184 --> 0.10504).  Saving model ...\n",
            "Epoch#3: Train Average Loss = 0.09300\n",
            "Validation loss decreased (0.10504 --> 0.09342).  Saving model ...\n",
            "Epoch#4: Train Average Loss = 0.08013\n",
            "Validation loss decreased (0.09342 --> 0.08539).  Saving model ...\n",
            "Epoch#5: Train Average Loss = 0.06995\n",
            "Validation loss decreased (0.08539 --> 0.07715).  Saving model ...\n",
            "Epoch#6: Train Average Loss = 0.06173\n",
            "Validation loss decreased (0.07715 --> 0.07250).  Saving model ...\n",
            "Epoch#7: Train Average Loss = 0.05521\n",
            "Validation loss decreased (0.07250 --> 0.06885).  Saving model ...\n",
            "Epoch#8: Train Average Loss = 0.05039\n",
            "Validation loss decreased (0.06885 --> 0.06706).  Saving model ...\n",
            "Epoch#9: Train Average Loss = 0.04569\n",
            "Validation loss decreased (0.06706 --> 0.06219).  Saving model ...\n",
            "Epoch#10: Train Average Loss = 0.04166\n",
            "Validation loss decreased (0.06219 --> 0.05788).  Saving model ...\n",
            "Epoch#11: Train Average Loss = 0.03770\n",
            "EarlyStopping counter: 1 out of 5. Current validation loss: 0.06031\n",
            "Epoch#12: Train Average Loss = 0.03515\n",
            "Validation loss decreased (0.05788 --> 0.05484).  Saving model ...\n",
            "Epoch#13: Train Average Loss = 0.03219\n",
            "EarlyStopping counter: 1 out of 5. Current validation loss: 0.05657\n",
            "Epoch#14: Train Average Loss = 0.03016\n",
            "Validation loss decreased (0.05484 --> 0.05291).  Saving model ...\n",
            "Epoch#15: Train Average Loss = 0.02798\n",
            "Validation loss decreased (0.05291 --> 0.05171).  Saving model ...\n",
            "Epoch#16: Train Average Loss = 0.02593\n",
            "EarlyStopping counter: 1 out of 5. Current validation loss: 0.05404\n",
            "Epoch#17: Train Average Loss = 0.02379\n",
            "EarlyStopping counter: 2 out of 5. Current validation loss: 0.05086\n",
            "Epoch#18: Train Average Loss = 0.02234\n",
            "Validation loss decreased (0.05171 --> 0.05039).  Saving model ...\n",
            "Epoch#19: Train Average Loss = 0.02081\n",
            "EarlyStopping counter: 1 out of 5. Current validation loss: 0.04961\n",
            "Epoch#20: Train Average Loss = 0.01951\n",
            "EarlyStopping counter: 2 out of 5. Current validation loss: 0.04956\n",
            "Epoch#21: Train Average Loss = 0.01823\n",
            "Validation loss decreased (0.05039 --> 0.04894).  Saving model ...\n",
            "Epoch#22: Train Average Loss = 0.01690\n",
            "EarlyStopping counter: 1 out of 5. Current validation loss: 0.04879\n",
            "Epoch#23: Train Average Loss = 0.01595\n",
            "EarlyStopping counter: 2 out of 5. Current validation loss: 0.04948\n",
            "Epoch#24: Train Average Loss = 0.01497\n",
            "Validation loss decreased (0.04894 --> 0.04624).  Saving model ...\n",
            "Epoch#25: Train Average Loss = 0.01410\n",
            "EarlyStopping counter: 1 out of 5. Current validation loss: 0.04583\n",
            "Epoch#26: Train Average Loss = 0.01329\n",
            "EarlyStopping counter: 2 out of 5. Current validation loss: 0.04846\n",
            "Epoch#27: Train Average Loss = 0.01253\n",
            "EarlyStopping counter: 3 out of 5. Current validation loss: 0.04564\n",
            "Epoch#28: Train Average Loss = 0.01186\n",
            "EarlyStopping counter: 4 out of 5. Current validation loss: 0.04585\n",
            "Epoch#29: Train Average Loss = 0.01105\n",
            "EarlyStopping counter: 5 out of 5. Current validation loss: 0.04985\n",
            "Stopped by early stopping at epoch 29\n"
          ]
        }
      ],
      "source": [
        "cnn_1_train_avg_losses, cnn_1_val_avg_losses, cnn_1_training_time = model_ccn_1.fit(train_loader, num_epochs, val_loader, patience, delta)"
      ]
    },
    {
      "cell_type": "code",
      "execution_count": 361,
      "metadata": {
        "colab": {
          "base_uri": "https://localhost:8080/",
          "height": 453
        },
        "id": "-27T-Ag3MG2K",
        "outputId": "e242946a-0bd3-4462-d9a2-23e60b7a6168"
      },
      "outputs": [
        {
          "data": {
            "image/png": "[encoded data removed]",
            "text/plain": [
              "<Figure size 640x480 with 1 Axes>"
            ]
          },
          "metadata": {},
          "output_type": "display_data"
        }
      ],
      "source": [
        "plot_train_val_losses(cnn_1_train_avg_losses, cnn_1_val_avg_losses)"
      ]
    },
    {
      "cell_type": "code",
      "execution_count": 362,
      "metadata": {
        "colab": {
          "base_uri": "https://localhost:8080/"
        },
        "id": "IXOdO_ptLxqe",
        "outputId": "1d0812c6-c3c8-4600-d9a5-63dac97b472f"
      },
      "outputs": [
        {
          "name": "stderr",
          "output_type": "stream",
          "text": [
            "/Users/mauriciosightman/Library/Python/3.9/lib/python/site-packages/torch/nn/_reduction.py:42: UserWarning: size_average and reduce args will be deprecated, please use reduction='sum' instead.\n",
            "  warnings.warn(warning.format(ret))\n"
          ]
        },
        {
          "name": "stdout",
          "output_type": "stream",
          "text": [
            "\n",
            "Test set: Avg. loss: 0.0413, Accuracy: 9865/10000 (98.65%)\n",
            "\n"
          ]
        },
        {
          "data": {
            "text/plain": [
              "(0.041255567591424916, tensor(98.6500), [0.041255567591424916])"
            ]
          },
          "execution_count": 362,
          "metadata": {},
          "output_type": "execute_result"
        }
      ],
      "source": [
        "model_ccn_1.test(test_loader)"
      ]
    },
    {
      "cell_type": "code",
      "execution_count": 363,
      "metadata": {},
      "outputs": [
        {
          "data": {
            "text/plain": [
              "{'acc': 0.9865,\n",
              " 'tpr': 0.9865,\n",
              " 'precision': 0.9865504832661501,\n",
              " 'f1-score': 0.9865019667977254,\n",
              " 'y_true': array([7, 2, 1, ..., 4, 5, 6]),\n",
              " 'y_pred': array([7, 2, 1, ..., 4, 5, 6]),\n",
              " 'loss': 0.004125556768645947}"
            ]
          },
          "execution_count": 363,
          "metadata": {},
          "output_type": "execute_result"
        }
      ],
      "source": [
        "cnn_1_model_metrics = test_and_get_metrics(model_ccn_1, test_loader, device)\n",
        "\n",
        "results.append({\n",
        "    'model': 'model_ccn_1',\n",
        "    'train_avg_losses': cnn_1_train_avg_losses,\n",
        "    'val_avg_losses': cnn_1_val_avg_losses,\n",
        "    'training_time': cnn_1_training_time,\n",
        "    'learning_rate': learning_rate,\n",
        "    'dropout_rate': dropout_rate,\n",
        "    'acc':cnn_1_model_metrics['acc'],\n",
        "    'tpr':cnn_1_model_metrics['tpr'],\n",
        "    'precision':cnn_1_model_metrics['precision'],\n",
        "    'f1-score':cnn_1_model_metrics['f1-score'],\n",
        "    'y_true':cnn_1_model_metrics['y_true'],\n",
        "    'y_pred':cnn_1_model_metrics['y_pred'],\n",
        "    'loss':cnn_1_model_metrics['loss'],\n",
        "})\n",
        "\n",
        "cnn_1_model_metrics"
      ]
    },
    {
      "cell_type": "markdown",
      "metadata": {},
      "source": [
        "Ao adicionar uma camada de convolução ao modelo, a acurácia aumentou em 0,81 pontos percentuais. Esse aumento representa uma melhoria significativa no desempenho do modelo."
      ]
    },
    {
      "cell_type": "markdown",
      "metadata": {
        "id": "tVLTAMYriqdC"
      },
      "source": [
        "### CNN 2 (Sigmoid)\n"
      ]
    },
    {
      "cell_type": "code",
      "execution_count": 364,
      "metadata": {
        "id": "_ODVqc9nivBa"
      },
      "outputs": [],
      "source": [
        "# Define the neural network architecture\n",
        "class TwoConvNN(nn.Module):\n",
        "    def __init__(self, in_features, dropout_rate=0.):\n",
        "        super(TwoConvNN, self).__init__()\n",
        "        self.early_stopping = True\n",
        "        self.conv1 = nn.Conv2d(in_channels=1, out_channels=20, kernel_size=5, stride=1)\n",
        "        self.pool1 = nn.MaxPool2d(kernel_size=2, stride=2)\n",
        "        self.conv2 = nn.Conv2d(in_channels=20, out_channels=40, kernel_size=5, stride=1)\n",
        "        self.pool2 = nn.MaxPool2d(kernel_size=2, stride=2)\n",
        "        self.net = nn.Sequential(\n",
        "          nn.Linear(40*4*4, 100),\n",
        "          nn.Sigmoid(),\n",
        "          nn.Dropout(dropout_rate),\n",
        "          nn.Linear(100, 10),\n",
        "        )\n",
        "\n",
        "    def forward(self, x):\n",
        "        x = F.sigmoid(self.pool1(self.conv1(x)))\n",
        "        x = F.sigmoid(self.pool2(self.conv2(x)))\n",
        "        x = torch.flatten(x, 1) # flatten all dimensions except batch\n",
        "        x = self.net(x)\n",
        "        x = nn.functional.log_softmax(x, dim=1)\n",
        "        return x\n",
        "\n",
        "    def compile(self, learning_rate, weight_decay=0.0):\n",
        "      self.optimizer = optim.SGD(self.parameters(), weight_decay=weight_decay, lr=learning_rate)\n",
        "      self.criterion = nn.NLLLoss()\n",
        "\n",
        "    def fit(self, train_loader, num_epochs, val_loader = None, patience = None, delta = None):\n",
        "      if val_loader is not None and patience is not None and delta is not None:\n",
        "        print(f'Using early stopping with patience={patience} and delta={delta}')\n",
        "        self.early_stopping = EarlyStopping(patience, delta)\n",
        "\n",
        "      val_avg_losses = []\n",
        "      train_avg_losses = []\n",
        "      start_time = time.time()\n",
        "\n",
        "      for epoch in range(num_epochs):\n",
        "        # Calibrando os pesos do modelo\n",
        "        train_losses = []\n",
        "        self.train()\n",
        "        for batch_idx, (X, y) in enumerate(train_loader):\n",
        "          X, y = X.to(device), y.to(device)  # Move data to device\n",
        "          output = self.forward(X)\n",
        "\n",
        "          train_loss = self.criterion(output, y)  # Use defined criterion\n",
        "          self.optimizer.zero_grad()\n",
        "          train_loss.backward()\n",
        "          self.optimizer.step()\n",
        "          train_losses.append(train_loss.item())\n",
        "        train_avg_loss = np.mean(train_losses)\n",
        "        train_avg_losses.append(train_avg_loss)\n",
        "        print(f'Epoch#{epoch+1}: Train Average Loss = {train_avg_loss:.5f}')\n",
        "\n",
        "        # Mecanismo de early stopping\n",
        "        if self.early_stopping is not None:\n",
        "          val_losses = []\n",
        "          self.eval()\n",
        "          with torch.no_grad():\n",
        "            for batch_idx, (X, y) in enumerate(val_loader):\n",
        "              X, y = X.to(device), y.to(device)  # Move data to device\n",
        "              output = self.forward(X)\n",
        "              val_loss = self.criterion(output, y)\n",
        "              val_losses.append(val_loss.item())\n",
        "          val_avg_loss = np.mean(val_losses)\n",
        "          val_avg_losses.append(val_avg_loss)\n",
        "          self.early_stopping(val_avg_loss, self)\n",
        "          if self.early_stopping.early_stop:\n",
        "            print(f'Stopped by early stopping at epoch {epoch+1}')\n",
        "            break\n",
        "\n",
        "      if self.early_stopping is not None:\n",
        "        self = torch.load('checkpoint.pt')\n",
        "      self.eval()\n",
        "\n",
        "      end_time = time.time()\n",
        "      training_time = end_time - start_time\n",
        "      return train_avg_losses, val_avg_losses, training_time\n",
        "\n",
        "\n",
        "    def test(self, test_loader):\n",
        "      test_losses = []\n",
        "      test_loss = 0\n",
        "      correct = 0\n",
        "      with torch.no_grad():\n",
        "        for data, target in test_loader:\n",
        "          data, target = data.to(device), target.to(device)\n",
        "          output = self.forward(data)\n",
        "          test_loss += F.nll_loss(output, target, size_average=False).item()\n",
        "          pred = output.data.max(1, keepdim=True)[1]\n",
        "          correct += pred.eq(target.data.view_as(pred)).sum()\n",
        "      test_loss /= len(test_loader.dataset)\n",
        "      test_losses.append(test_loss)\n",
        "      acc = 100. * correct / len(test_loader.dataset)\n",
        "      print('\\nTest set: Avg. loss: {:.4f}, Accuracy: {}/{} ({:.2f}%)\\n'.format(\n",
        "        test_loss, correct, len(test_loader.dataset),\n",
        "        acc))\n",
        "      return test_loss, acc, test_losses"
      ]
    },
    {
      "cell_type": "code",
      "execution_count": 365,
      "metadata": {},
      "outputs": [],
      "source": [
        "input_size = train_dataset[0][0].shape[1] * train_dataset[0][0].shape[2]\n",
        "learning_rate = 0.03\n",
        "weight_decay = 0.1\n",
        "dropout_rate = 0.\n",
        "num_epochs = 60\n",
        "patience = 5\n",
        "delta = 0.001"
      ]
    },
    {
      "cell_type": "code",
      "execution_count": 367,
      "metadata": {
        "id": "eVZ4iM5YmLuw"
      },
      "outputs": [],
      "source": [
        "# Create an instance of the neural network\n",
        "model_ccn_2 = TwoConvNN(input_size).to(device)\n",
        "model_ccn_2.compile(learning_rate = learning_rate)"
      ]
    },
    {
      "cell_type": "code",
      "execution_count": 368,
      "metadata": {
        "colab": {
          "base_uri": "https://localhost:8080/"
        },
        "id": "SoXl_V-mmbsD",
        "outputId": "e71d3e52-ba4d-40d3-fe64-b9843d7c4c56"
      },
      "outputs": [
        {
          "name": "stdout",
          "output_type": "stream",
          "text": [
            "Using early stopping with patience=5 and delta=0.001\n",
            "Epoch#1: Train Average Loss = 1.96116\n",
            "Validation loss decreased (inf --> 0.63770).  Saving model ...\n",
            "Epoch#2: Train Average Loss = 0.34931\n",
            "Validation loss decreased (0.63770 --> 0.21322).  Saving model ...\n",
            "Epoch#3: Train Average Loss = 0.17703\n",
            "Validation loss decreased (0.21322 --> 0.14386).  Saving model ...\n",
            "Epoch#4: Train Average Loss = 0.12735\n",
            "Validation loss decreased (0.14386 --> 0.11170).  Saving model ...\n",
            "Epoch#5: Train Average Loss = 0.10234\n",
            "Validation loss decreased (0.11170 --> 0.10020).  Saving model ...\n",
            "Epoch#6: Train Average Loss = 0.08782\n",
            "Validation loss decreased (0.10020 --> 0.08592).  Saving model ...\n",
            "Epoch#7: Train Average Loss = 0.07628\n",
            "Validation loss decreased (0.08592 --> 0.07492).  Saving model ...\n",
            "Epoch#8: Train Average Loss = 0.06858\n",
            "Validation loss decreased (0.07492 --> 0.06888).  Saving model ...\n",
            "Epoch#9: Train Average Loss = 0.06228\n",
            "Validation loss decreased (0.06888 --> 0.06336).  Saving model ...\n",
            "Epoch#10: Train Average Loss = 0.05690\n",
            "EarlyStopping counter: 1 out of 5. Current validation loss: 0.06694\n",
            "Epoch#11: Train Average Loss = 0.05241\n",
            "Validation loss decreased (0.06336 --> 0.05853).  Saving model ...\n",
            "Epoch#12: Train Average Loss = 0.04935\n",
            "EarlyStopping counter: 1 out of 5. Current validation loss: 0.05963\n",
            "Epoch#13: Train Average Loss = 0.04618\n",
            "Validation loss decreased (0.05853 --> 0.05209).  Saving model ...\n",
            "Epoch#14: Train Average Loss = 0.04299\n",
            "EarlyStopping counter: 1 out of 5. Current validation loss: 0.05226\n",
            "Epoch#15: Train Average Loss = 0.04063\n",
            "Validation loss decreased (0.05209 --> 0.05067).  Saving model ...\n",
            "Epoch#16: Train Average Loss = 0.03856\n",
            "EarlyStopping counter: 1 out of 5. Current validation loss: 0.05124\n",
            "Epoch#17: Train Average Loss = 0.03683\n",
            "Validation loss decreased (0.05067 --> 0.04585).  Saving model ...\n",
            "Epoch#18: Train Average Loss = 0.03449\n",
            "Validation loss decreased (0.04585 --> 0.04371).  Saving model ...\n",
            "Epoch#19: Train Average Loss = 0.03269\n",
            "EarlyStopping counter: 1 out of 5. Current validation loss: 0.04507\n",
            "Epoch#20: Train Average Loss = 0.03112\n",
            "EarlyStopping counter: 2 out of 5. Current validation loss: 0.04333\n",
            "Epoch#21: Train Average Loss = 0.02981\n",
            "Validation loss decreased (0.04371 --> 0.04250).  Saving model ...\n",
            "Epoch#22: Train Average Loss = 0.02808\n",
            "EarlyStopping counter: 1 out of 5. Current validation loss: 0.04231\n",
            "Epoch#23: Train Average Loss = 0.02708\n",
            "EarlyStopping counter: 2 out of 5. Current validation loss: 0.04399\n",
            "Epoch#24: Train Average Loss = 0.02570\n",
            "Validation loss decreased (0.04250 --> 0.04134).  Saving model ...\n",
            "Epoch#25: Train Average Loss = 0.02468\n",
            "Validation loss decreased (0.04134 --> 0.03917).  Saving model ...\n",
            "Epoch#26: Train Average Loss = 0.02365\n",
            "EarlyStopping counter: 1 out of 5. Current validation loss: 0.04269\n",
            "Epoch#27: Train Average Loss = 0.02251\n",
            "EarlyStopping counter: 2 out of 5. Current validation loss: 0.04221\n",
            "Epoch#28: Train Average Loss = 0.02135\n",
            "EarlyStopping counter: 3 out of 5. Current validation loss: 0.03994\n",
            "Epoch#29: Train Average Loss = 0.02034\n",
            "EarlyStopping counter: 4 out of 5. Current validation loss: 0.03983\n",
            "Epoch#30: Train Average Loss = 0.01978\n",
            "EarlyStopping counter: 5 out of 5. Current validation loss: 0.03891\n",
            "Stopped by early stopping at epoch 30\n"
          ]
        }
      ],
      "source": [
        "ccn_2_train_avg_losses_2, ccn_2_val_avg_losses_2, ccn_2_training_time = model_ccn_2.fit(train_loader, num_epochs, val_loader, patience, delta)"
      ]
    },
    {
      "cell_type": "code",
      "execution_count": 369,
      "metadata": {
        "colab": {
          "base_uri": "https://localhost:8080/",
          "height": 453
        },
        "id": "yfFF-sxamgLl",
        "outputId": "fd9994a2-3142-4d39-f7ed-34482db9e3b0"
      },
      "outputs": [
        {
          "data": {
            "image/png": "[encoded data removed]",
            "text/plain": [
              "<Figure size 640x480 with 1 Axes>"
            ]
          },
          "metadata": {},
          "output_type": "display_data"
        }
      ],
      "source": [
        "plot_train_val_losses(ccn_2_train_avg_losses_2, ccn_2_val_avg_losses_2)"
      ]
    },
    {
      "cell_type": "code",
      "execution_count": 370,
      "metadata": {},
      "outputs": [
        {
          "name": "stderr",
          "output_type": "stream",
          "text": [
            "/Users/mauriciosightman/Library/Python/3.9/lib/python/site-packages/torch/nn/_reduction.py:42: UserWarning: size_average and reduce args will be deprecated, please use reduction='sum' instead.\n",
            "  warnings.warn(warning.format(ret))\n"
          ]
        },
        {
          "name": "stdout",
          "output_type": "stream",
          "text": [
            "\n",
            "Test set: Avg. loss: 0.0303, Accuracy: 9890/10000 (98.90%)\n",
            "\n"
          ]
        },
        {
          "data": {
            "text/plain": [
              "(0.030272847305380855, tensor(98.9000), [0.030272847305380855])"
            ]
          },
          "execution_count": 370,
          "metadata": {},
          "output_type": "execute_result"
        }
      ],
      "source": [
        "model_ccn_2.test(test_loader)"
      ]
    },
    {
      "cell_type": "code",
      "execution_count": 371,
      "metadata": {},
      "outputs": [
        {
          "data": {
            "text/plain": [
              "{'acc': 0.989,\n",
              " 'tpr': 0.989,\n",
              " 'precision': 0.9890295886794369,\n",
              " 'f1-score': 0.9889989760924908,\n",
              " 'y_true': array([7, 2, 1, ..., 4, 5, 6]),\n",
              " 'y_pred': array([7, 2, 1, ..., 4, 5, 6]),\n",
              " 'loss': 0.0030272847373173134}"
            ]
          },
          "execution_count": 371,
          "metadata": {},
          "output_type": "execute_result"
        }
      ],
      "source": [
        "ccn_2_model_metrics = test_and_get_metrics(model_ccn_2, test_loader, device)\n",
        "\n",
        "results.append({\n",
        "    'model': 'model_ccn_2',\n",
        "    'train_avg_losses': ccn_2_train_avg_losses_2,\n",
        "    'val_avg_losses': ccn_2_val_avg_losses_2,\n",
        "    'training_time': ccn_2_training_time,\n",
        "    'learning_rate': learning_rate,\n",
        "    'dropout_rate': dropout_rate,\n",
        "    'acc':ccn_2_model_metrics['acc'],\n",
        "    'tpr':ccn_2_model_metrics['tpr'],\n",
        "    'precision':ccn_2_model_metrics['precision'],\n",
        "    'f1-score':ccn_2_model_metrics['f1-score'],\n",
        "    'y_true':ccn_2_model_metrics['y_true'],\n",
        "    'y_pred':ccn_2_model_metrics['y_pred'],\n",
        "    'loss':ccn_2_model_metrics['loss'],\n",
        "})\n",
        "\n",
        "ccn_2_model_metrics"
      ]
    },
    {
      "cell_type": "code",
      "execution_count": 372,
      "metadata": {},
      "outputs": [
        {
          "data": {
            "text/plain": [
              "720.1132550239563"
            ]
          },
          "execution_count": 372,
          "metadata": {},
          "output_type": "execute_result"
        }
      ],
      "source": [
        "ccn_2_training_time"
      ]
    },
    {
      "cell_type": "markdown",
      "metadata": {},
      "source": [
        "Ao adicionar uma segunda camada de convolução, a acurácia aumentou em 0,29 pontos percentuais. Embora esse aumento seja menor em comparação com a adição da primeira camada, ele ainda indica uma melhora no desempenho do modelo, sugerindo que camadas adicionais de convolução continuam a refinar a capacidade de extração de características relevantes, embora com ganhos incrementais menores. No entanto, é importante notar que essa melhoria na acurácia veio acompanhada de um aumento de 10 minutos no tempo de treinamento, destacando um trade-off entre a precisão e a eficiência do modelo."
      ]
    },
    {
      "cell_type": "markdown",
      "metadata": {
        "id": "Lo6BHQEcmwty"
      },
      "source": [
        "### CNN 2 (Tanh)\n"
      ]
    },
    {
      "cell_type": "code",
      "execution_count": 374,
      "metadata": {
        "id": "CHgHNtJZm04P"
      },
      "outputs": [],
      "source": [
        "# Define the neural network architecture\n",
        "class TwoConvNNWithTanh(nn.Module):\n",
        "    def __init__(self, in_features, dropout_rate=0.):\n",
        "        super(TwoConvNNWithTanh, self).__init__()\n",
        "        self.early_stopping = True\n",
        "        self.conv1 = nn.Conv2d(in_channels=1, out_channels=20, kernel_size=5, stride=1)\n",
        "        self.pool1 = nn.MaxPool2d(kernel_size=2, stride=2)\n",
        "        self.conv2 = nn.Conv2d(in_channels=20, out_channels=40, kernel_size=5, stride=1)\n",
        "        self.pool2 = nn.MaxPool2d(kernel_size=2, stride=2)\n",
        "        self.net = nn.Sequential(\n",
        "          nn.Linear(40*4*4, 100),\n",
        "          nn.Tanh(),\n",
        "          nn.Dropout(dropout_rate),\n",
        "          nn.Linear(100, 10),\n",
        "        )\n",
        "\n",
        "    def forward(self, x):\n",
        "        x = F.tanh(self.pool1(self.conv1(x)))\n",
        "        x = F.tanh(self.pool2(self.conv2(x)))\n",
        "        x = torch.flatten(x, 1) # flatten all dimensions except batch\n",
        "        x = self.net(x)\n",
        "        x = nn.functional.log_softmax(x, dim=1)\n",
        "        return x\n",
        "\n",
        "    def compile(self, learning_rate, weight_decay=0.0):\n",
        "      self.optimizer = optim.SGD(self.parameters(), weight_decay=weight_decay, lr=learning_rate)\n",
        "      self.criterion = nn.NLLLoss()\n",
        "\n",
        "    def fit(self, train_loader, num_epochs, val_loader = None, patience = None, delta = None):\n",
        "      if val_loader is not None and patience is not None and delta is not None:\n",
        "        print(f'Using early stopping with patience={patience} and delta={delta}')\n",
        "        self.early_stopping = EarlyStopping(patience, delta)\n",
        "\n",
        "      val_avg_losses = []\n",
        "      train_avg_losses = []\n",
        "      start_time = time.time()\n",
        "\n",
        "      for epoch in range(num_epochs):\n",
        "        # Calibrando os pesos do modelo\n",
        "        train_losses = []\n",
        "        self.train()\n",
        "        for batch_idx, (X, y) in enumerate(train_loader):\n",
        "          X, y = X.to(device), y.to(device)  # Move data to device\n",
        "          output = self.forward(X)\n",
        "\n",
        "          train_loss = self.criterion(output, y)  # Use defined criterion\n",
        "          self.optimizer.zero_grad()\n",
        "          train_loss.backward()\n",
        "          self.optimizer.step()\n",
        "          train_losses.append(train_loss.item())\n",
        "        train_avg_loss = np.mean(train_losses)\n",
        "        train_avg_losses.append(train_avg_loss)\n",
        "        print(f'Epoch#{epoch+1}: Train Average Loss = {train_avg_loss:.5f}')\n",
        "\n",
        "        # Mecanismo de early stopping\n",
        "        if self.early_stopping is not None:\n",
        "          val_losses = []\n",
        "          self.eval()\n",
        "          with torch.no_grad():\n",
        "            for batch_idx, (X, y) in enumerate(val_loader):\n",
        "              X, y = X.to(device), y.to(device)  # Move data to device\n",
        "              output = self.forward(X)\n",
        "              val_loss = self.criterion(output, y)\n",
        "              val_losses.append(val_loss.item())\n",
        "          val_avg_loss = np.mean(val_losses)\n",
        "          val_avg_losses.append(val_avg_loss)\n",
        "          self.early_stopping(val_avg_loss, self)\n",
        "          if self.early_stopping.early_stop:\n",
        "            print(f'Stopped by early stopping at epoch {epoch+1}')\n",
        "            break\n",
        "\n",
        "      if self.early_stopping is not None:\n",
        "        self = torch.load('checkpoint.pt')\n",
        "      self.eval()\n",
        "\n",
        "      end_time = time.time()\n",
        "      training_time = end_time - start_time\n",
        "      return train_avg_losses, val_avg_losses, training_time\n",
        "\n",
        "\n",
        "    def test(self, test_loader):\n",
        "      test_losses = []\n",
        "      test_loss = 0\n",
        "      correct = 0\n",
        "      with torch.no_grad():\n",
        "        for data, target in test_loader:\n",
        "          data, target = data.to(device), target.to(device)\n",
        "          output = self.forward(data)\n",
        "          test_loss += F.nll_loss(output, target, size_average=False).item()\n",
        "          pred = output.data.max(1, keepdim=True)[1]\n",
        "          correct += pred.eq(target.data.view_as(pred)).sum()\n",
        "      test_loss /= len(test_loader.dataset)\n",
        "      test_losses.append(test_loss)\n",
        "      acc = 100. * correct / len(test_loader.dataset)\n",
        "      print('\\nTest set: Avg. loss: {:.4f}, Accuracy: {}/{} ({:.2f}%)\\n'.format(\n",
        "        test_loss, correct, len(test_loader.dataset),\n",
        "        acc))\n",
        "      return test_loss, acc, test_losses"
      ]
    },
    {
      "cell_type": "code",
      "execution_count": 375,
      "metadata": {
        "id": "EOUNI1ZfWN6Z"
      },
      "outputs": [],
      "source": [
        "input_size = train_dataset[0][0].shape[1] * train_dataset[0][0].shape[2]\n",
        "learning_rate = 0.03\n",
        "weight_decay = 0.1\n",
        "dropout_rate = 0.\n",
        "num_epochs = 60\n",
        "patience = 5\n",
        "delta = 0.001"
      ]
    },
    {
      "cell_type": "code",
      "execution_count": 376,
      "metadata": {
        "id": "pWjQChJCnqkA"
      },
      "outputs": [],
      "source": [
        "# Create an instance of the neural network\n",
        "model_ccn_2_tanh = TwoConvNNWithTanh(input_size).to(device)\n",
        "model_ccn_2_tanh.compile(learning_rate = learning_rate)"
      ]
    },
    {
      "cell_type": "code",
      "execution_count": 377,
      "metadata": {
        "colab": {
          "base_uri": "https://localhost:8080/"
        },
        "id": "Qx71fhM0nz7W",
        "outputId": "83375717-233f-403e-94b5-de4d0fa4e9e2"
      },
      "outputs": [
        {
          "name": "stdout",
          "output_type": "stream",
          "text": [
            "Using early stopping with patience=5 and delta=0.001\n",
            "Epoch#1: Train Average Loss = 0.17912\n",
            "Validation loss decreased (inf --> 0.06220).  Saving model ...\n",
            "Epoch#2: Train Average Loss = 0.05261\n",
            "Validation loss decreased (0.06220 --> 0.05020).  Saving model ...\n",
            "Epoch#3: Train Average Loss = 0.03588\n",
            "Validation loss decreased (0.05020 --> 0.04337).  Saving model ...\n",
            "Epoch#4: Train Average Loss = 0.02449\n",
            "Validation loss decreased (0.04337 --> 0.04167).  Saving model ...\n",
            "Epoch#5: Train Average Loss = 0.01809\n",
            "Validation loss decreased (0.04167 --> 0.03710).  Saving model ...\n",
            "Epoch#6: Train Average Loss = 0.01265\n",
            "EarlyStopping counter: 1 out of 5. Current validation loss: 0.03861\n",
            "Epoch#7: Train Average Loss = 0.00916\n",
            "Validation loss decreased (0.03710 --> 0.03600).  Saving model ...\n",
            "Epoch#8: Train Average Loss = 0.00684\n",
            "Validation loss decreased (0.03600 --> 0.03385).  Saving model ...\n",
            "Epoch#9: Train Average Loss = 0.00472\n",
            "EarlyStopping counter: 1 out of 5. Current validation loss: 0.03527\n",
            "Epoch#10: Train Average Loss = 0.00372\n",
            "EarlyStopping counter: 2 out of 5. Current validation loss: 0.03540\n",
            "Epoch#11: Train Average Loss = 0.00288\n",
            "EarlyStopping counter: 3 out of 5. Current validation loss: 0.03398\n",
            "Epoch#12: Train Average Loss = 0.00238\n",
            "EarlyStopping counter: 4 out of 5. Current validation loss: 0.03543\n",
            "Epoch#13: Train Average Loss = 0.00199\n",
            "EarlyStopping counter: 5 out of 5. Current validation loss: 0.03493\n",
            "Stopped by early stopping at epoch 13\n"
          ]
        }
      ],
      "source": [
        "tanh_train_avg_losses, tanh_val_avg_losses, tanh_training_time = model_ccn_2_tanh.fit(train_loader, num_epochs, val_loader, patience, delta)"
      ]
    },
    {
      "cell_type": "code",
      "execution_count": 378,
      "metadata": {
        "colab": {
          "base_uri": "https://localhost:8080/",
          "height": 453
        },
        "id": "seoGeq3vn57L",
        "outputId": "60f169bb-4d05-4ed7-d7b5-c2d047462f53"
      },
      "outputs": [
        {
          "data": {
            "image/png": "[encoded data removed]",
            "text/plain": [
              "<Figure size 640x480 with 1 Axes>"
            ]
          },
          "metadata": {},
          "output_type": "display_data"
        }
      ],
      "source": [
        "plot_train_val_losses(tanh_train_avg_losses, tanh_val_avg_losses)"
      ]
    },
    {
      "cell_type": "code",
      "execution_count": 379,
      "metadata": {
        "colab": {
          "base_uri": "https://localhost:8080/"
        },
        "id": "RizKQ3C4n87W",
        "outputId": "f3b9ac68-085f-4c57-9bac-08c51cf12669"
      },
      "outputs": [
        {
          "name": "stderr",
          "output_type": "stream",
          "text": [
            "/Users/mauriciosightman/Library/Python/3.9/lib/python/site-packages/torch/nn/_reduction.py:42: UserWarning: size_average and reduce args will be deprecated, please use reduction='sum' instead.\n",
            "  warnings.warn(warning.format(ret))\n"
          ]
        },
        {
          "name": "stdout",
          "output_type": "stream",
          "text": [
            "\n",
            "Test set: Avg. loss: 0.0278, Accuracy: 9913/10000 (99.13%)\n",
            "\n"
          ]
        },
        {
          "data": {
            "text/plain": [
              "(0.027778208639979086, tensor(99.1300), [0.027778208639979086])"
            ]
          },
          "execution_count": 379,
          "metadata": {},
          "output_type": "execute_result"
        }
      ],
      "source": [
        "model_ccn_2_tanh.test(test_loader)"
      ]
    },
    {
      "cell_type": "code",
      "execution_count": 380,
      "metadata": {},
      "outputs": [
        {
          "data": {
            "text/plain": [
              "{'acc': 0.9913,\n",
              " 'tpr': 0.9913,\n",
              " 'precision': 0.9913113914555959,\n",
              " 'f1-score': 0.9912968482736348,\n",
              " 'y_true': array([7, 2, 1, ..., 4, 5, 6]),\n",
              " 'y_pred': array([7, 2, 1, ..., 4, 5, 6]),\n",
              " 'loss': 0.0027778208739043463}"
            ]
          },
          "execution_count": 380,
          "metadata": {},
          "output_type": "execute_result"
        }
      ],
      "source": [
        "tanh_model_metrics = test_and_get_metrics(model_ccn_2_tanh, test_loader, device)\n",
        "\n",
        "results.append({\n",
        "    'model': 'model_ccn_2_tanh',\n",
        "    'train_avg_losses': tanh_train_avg_losses,\n",
        "    'val_avg_losses': tanh_val_avg_losses,\n",
        "    'training_time': tanh_training_time,\n",
        "    'learning_rate': learning_rate,\n",
        "    'dropout_rate': dropout_rate,\n",
        "    'acc':tanh_model_metrics['acc'],\n",
        "    'tpr':tanh_model_metrics['tpr'],\n",
        "    'precision':tanh_model_metrics['precision'],\n",
        "    'f1-score':tanh_model_metrics['f1-score'],\n",
        "    'y_true':tanh_model_metrics['y_true'],\n",
        "    'y_pred':tanh_model_metrics['y_pred'],\n",
        "    'loss':tanh_model_metrics['loss'],\n",
        "})\n",
        "\n",
        "tanh_model_metrics"
      ]
    },
    {
      "cell_type": "code",
      "execution_count": 381,
      "metadata": {},
      "outputs": [
        {
          "data": {
            "text/plain": [
              "360.6017761230469"
            ]
          },
          "execution_count": 381,
          "metadata": {},
          "output_type": "execute_result"
        }
      ],
      "source": [
        "tanh_training_time"
      ]
    },
    {
      "cell_type": "markdown",
      "metadata": {},
      "source": [
        "Quando a função de ativação foi alterada para tanh, a acurácia melhorou em 0.1 ponto percentual em comparação com o modelo anterior, e o tempo de treinamento diminuiu em 10 minutos. Isso demonstra que a escolha da função de ativação pode impactar significativamente tanto a performance quanto a eficiência do modelo."
      ]
    },
    {
      "cell_type": "markdown",
      "metadata": {
        "id": "vkhGjfStp7JJ"
      },
      "source": [
        "### CNN 2 (ReLU)\n"
      ]
    },
    {
      "cell_type": "code",
      "execution_count": 382,
      "metadata": {
        "id": "gh-3SE3jp7JV"
      },
      "outputs": [],
      "source": [
        "# Define the neural network architecture\n",
        "class TwoConvNNWithReLU(nn.Module):\n",
        "    def __init__(self, in_features, dropout_rate=0.):\n",
        "        super(TwoConvNNWithReLU, self).__init__()\n",
        "        self.early_stopping = True\n",
        "        self.conv1 = nn.Conv2d(in_channels=1, out_channels=20, kernel_size=5, stride=1)\n",
        "        self.pool1 = nn.MaxPool2d(kernel_size=2, stride=2)\n",
        "        self.conv2 = nn.Conv2d(in_channels=20, out_channels=40, kernel_size=5, stride=1)\n",
        "        self.pool2 = nn.MaxPool2d(kernel_size=2, stride=2)\n",
        "        self.net = nn.Sequential(\n",
        "          nn.Linear(40*4*4, 100),\n",
        "          nn.ReLU(),\n",
        "          nn.Dropout(dropout_rate),\n",
        "          nn.Linear(100, 10),\n",
        "        )\n",
        "\n",
        "    def forward(self, x):\n",
        "        x = F.relu(self.pool1(self.conv1(x)))\n",
        "        x = F.relu(self.pool2(self.conv2(x)))\n",
        "        x = torch.flatten(x, 1)\n",
        "        x = self.net(x)\n",
        "        x = nn.functional.log_softmax(x, dim=1)\n",
        "        return x\n",
        "\n",
        "    def compile(self, learning_rate, weight_decay=0.0):\n",
        "      self.optimizer = optim.SGD(self.parameters(), weight_decay=weight_decay, lr=learning_rate)\n",
        "      self.criterion = nn.NLLLoss()\n",
        "\n",
        "    def fit(self, train_loader, num_epochs, val_loader = None, patience = None, delta = None):\n",
        "      if val_loader is not None and patience is not None and delta is not None:\n",
        "        print(f'Using early stopping with patience={patience} and delta={delta}')\n",
        "        self.early_stopping = EarlyStopping(patience, delta)\n",
        "\n",
        "      val_avg_losses = []\n",
        "      train_avg_losses = []\n",
        "      start_time = time.time()\n",
        "\n",
        "      for epoch in range(num_epochs):\n",
        "        # Calibrando os pesos do modelo\n",
        "        train_losses = []\n",
        "        self.train()\n",
        "        for batch_idx, (X, y) in enumerate(train_loader):\n",
        "          X, y = X.to(device), y.to(device)  # Move data to device\n",
        "          output = self.forward(X)\n",
        "\n",
        "          train_loss = self.criterion(output, y)  # Use defined criterion\n",
        "          self.optimizer.zero_grad()\n",
        "          train_loss.backward()\n",
        "          self.optimizer.step()\n",
        "          train_losses.append(train_loss.item())\n",
        "        train_avg_loss = np.mean(train_losses)\n",
        "        train_avg_losses.append(train_avg_loss)\n",
        "        print(f'Epoch#{epoch+1}: Train Average Loss = {train_avg_loss:.5f}')\n",
        "\n",
        "        # Mecanismo de early stopping\n",
        "        if self.early_stopping is not None:\n",
        "          val_losses = []\n",
        "          self.eval()\n",
        "          with torch.no_grad():\n",
        "            for batch_idx, (X, y) in enumerate(val_loader):\n",
        "              X, y = X.to(device), y.to(device)  # Move data to device\n",
        "              output = self.forward(X)\n",
        "              val_loss = self.criterion(output, y)\n",
        "              val_losses.append(val_loss.item())\n",
        "          val_avg_loss = np.mean(val_losses)\n",
        "          val_avg_losses.append(val_avg_loss)\n",
        "          self.early_stopping(val_avg_loss, self)\n",
        "          if self.early_stopping.early_stop:\n",
        "            print(f'Stopped by early stopping at epoch {epoch+1}')\n",
        "            break\n",
        "\n",
        "      if self.early_stopping is not None:\n",
        "        self = torch.load('checkpoint.pt')\n",
        "      self.eval()\n",
        "\n",
        "      end_time = time.time()\n",
        "      training_time = end_time - start_time\n",
        "      return train_avg_losses, val_avg_losses, training_time\n",
        "\n",
        "\n",
        "    def test(self, test_loader):\n",
        "      test_losses = []\n",
        "      test_loss = 0\n",
        "      correct = 0\n",
        "      with torch.no_grad():\n",
        "        for data, target in test_loader:\n",
        "          data, target = data.to(device), target.to(device)\n",
        "          output = self.forward(data)\n",
        "          test_loss += F.nll_loss(output, target, size_average=False).item()\n",
        "          pred = output.data.max(1, keepdim=True)[1]\n",
        "          correct += pred.eq(target.data.view_as(pred)).sum()\n",
        "      test_loss /= len(test_loader.dataset)\n",
        "      test_losses.append(test_loss)\n",
        "      acc = 100. * correct / len(test_loader.dataset)\n",
        "      print('\\nTest set: Avg. loss: {:.4f}, Accuracy: {}/{} ({:.2f}%)\\n'.format(\n",
        "        test_loss, correct, len(test_loader.dataset),\n",
        "        acc))\n",
        "      return test_loss, acc, test_losses"
      ]
    },
    {
      "cell_type": "code",
      "execution_count": 386,
      "metadata": {
        "id": "lHOXXM2z65se"
      },
      "outputs": [],
      "source": [
        "input_size = train_dataset[0][0].shape[1] * train_dataset[0][0].shape[2]\n",
        "learning_rate = 0.03\n",
        "weight_decay = 0.001\n",
        "dropout_rate = 0.\n",
        "num_epochs = 60\n",
        "patience = 5\n",
        "delta = 0.001"
      ]
    },
    {
      "cell_type": "code",
      "execution_count": 387,
      "metadata": {
        "id": "8qb14yDip7JW"
      },
      "outputs": [],
      "source": [
        "# Create an instance of the neural network\n",
        "model_ccn_2_relu = TwoConvNNWithReLU(input_size, dropout_rate).to(device)\n",
        "model_ccn_2_relu.compile(learning_rate=learning_rate, weight_decay=weight_decay)"
      ]
    },
    {
      "cell_type": "code",
      "execution_count": 388,
      "metadata": {
        "colab": {
          "base_uri": "https://localhost:8080/"
        },
        "id": "3VNJrQDUp7JW",
        "outputId": "dc8550d1-9aff-42b5-a4bc-de90807f1465"
      },
      "outputs": [
        {
          "name": "stdout",
          "output_type": "stream",
          "text": [
            "Using early stopping with patience=5 and delta=0.001\n",
            "Epoch#1: Train Average Loss = 0.17063\n",
            "Validation loss decreased (inf --> 0.05410).  Saving model ...\n",
            "Epoch#2: Train Average Loss = 0.05113\n",
            "Validation loss decreased (0.05410 --> 0.05074).  Saving model ...\n",
            "Epoch#3: Train Average Loss = 0.03782\n",
            "EarlyStopping counter: 1 out of 5. Current validation loss: 0.04994\n",
            "Epoch#4: Train Average Loss = 0.03114\n",
            "Validation loss decreased (0.05074 --> 0.03555).  Saving model ...\n",
            "Epoch#5: Train Average Loss = 0.02649\n",
            "EarlyStopping counter: 1 out of 5. Current validation loss: 0.04306\n",
            "Epoch#6: Train Average Loss = 0.02406\n",
            "EarlyStopping counter: 2 out of 5. Current validation loss: 0.03946\n",
            "Epoch#7: Train Average Loss = 0.02252\n",
            "EarlyStopping counter: 3 out of 5. Current validation loss: 0.04045\n",
            "Epoch#8: Train Average Loss = 0.02086\n",
            "EarlyStopping counter: 4 out of 5. Current validation loss: 0.04116\n",
            "Epoch#9: Train Average Loss = 0.01918\n",
            "EarlyStopping counter: 5 out of 5. Current validation loss: 0.03465\n",
            "Stopped by early stopping at epoch 9\n"
          ]
        }
      ],
      "source": [
        "train_avg_losses_2_relu, val_avg_losses_2_relu, training_time_2_relu = model_ccn_2_relu.fit(train_loader, num_epochs, val_loader, patience, delta)"
      ]
    },
    {
      "cell_type": "code",
      "execution_count": 389,
      "metadata": {
        "colab": {
          "base_uri": "https://localhost:8080/",
          "height": 453
        },
        "id": "d-C1QS6Qp7JW",
        "outputId": "b0cfc6f9-ab64-4a70-d78a-e48770400a5b"
      },
      "outputs": [
        {
          "data": {
            "image/png": "[encoded data removed]",
            "text/plain": [
              "<Figure size 640x480 with 1 Axes>"
            ]
          },
          "metadata": {},
          "output_type": "display_data"
        }
      ],
      "source": [
        "plot_train_val_losses(train_avg_losses_2_relu, val_avg_losses_2_relu)"
      ]
    },
    {
      "cell_type": "code",
      "execution_count": 390,
      "metadata": {
        "id": "IwqETTUaYKJb"
      },
      "outputs": [
        {
          "data": {
            "text/plain": [
              "{'acc': 0.99,\n",
              " 'tpr': 0.99,\n",
              " 'precision': 0.9900690913019445,\n",
              " 'f1-score': 0.9900100762229104,\n",
              " 'y_true': array([7, 2, 1, ..., 4, 5, 6]),\n",
              " 'y_pred': array([7, 2, 1, ..., 4, 5, 6]),\n",
              " 'loss': 0.0027317532430538903}"
            ]
          },
          "execution_count": 390,
          "metadata": {},
          "output_type": "execute_result"
        }
      ],
      "source": [
        "cnn_2_metrics = test_and_get_metrics(model_ccn_2_relu, test_loader, device)\n",
        "\n",
        "results.append({\n",
        "    'model': 'model_ccn_2_relu',\n",
        "    'train_avg_losses': train_avg_losses_2_relu,\n",
        "    'val_avg_losses': val_avg_losses_2_relu,\n",
        "    'training_time': training_time_2_relu,\n",
        "    'learning_rate': learning_rate,\n",
        "    'dropout_rate': dropout_rate,\n",
        "    'acc':cnn_2_metrics['acc'],\n",
        "    'tpr':cnn_2_metrics['tpr'],\n",
        "    'precision':cnn_2_metrics['precision'],\n",
        "    'f1-score':cnn_2_metrics['f1-score'],\n",
        "    'y_true':cnn_2_metrics['y_true'],\n",
        "    'y_pred':cnn_2_metrics['y_pred'],\n",
        "    'loss':cnn_2_metrics['loss'],\n",
        "})\n",
        "\n",
        "cnn_2_metrics"
      ]
    },
    {
      "cell_type": "code",
      "execution_count": 391,
      "metadata": {
        "colab": {
          "base_uri": "https://localhost:8080/",
          "height": 718
        },
        "id": "B0A7Dak_Znw8",
        "outputId": "e7ff5993-2a24-48b8-eecb-0bee0f4d6cb3"
      },
      "outputs": [
        {
          "data": {
            "image/png": "[encoded data removed]",
            "text/plain": [
              "<Figure size 1000x800 with 2 Axes>"
            ]
          },
          "metadata": {},
          "output_type": "display_data"
        }
      ],
      "source": [
        "y_true = np.array(cnn_2_metrics['y_true'])\n",
        "y_pred = np.array(cnn_2_metrics['y_pred'])\n",
        "\n",
        "accuracy = cnn_2_metrics['acc']\n",
        "precision = cnn_2_metrics['precision']\n",
        "recall = cnn_2_metrics['tpr']\n",
        "\n",
        "plot_accuracy_per_label(y_true, y_pred, output_size=10)"
      ]
    },
    {
      "cell_type": "markdown",
      "metadata": {},
      "source": [
        "### Expadindo Dataset"
      ]
    },
    {
      "cell_type": "code",
      "execution_count": 295,
      "metadata": {},
      "outputs": [
        {
          "name": "stdout",
          "output_type": "stream",
          "text": [
            "Expanding the MNIST training set\n"
          ]
        }
      ],
      "source": [
        "# Expandindo dataset de treino\n",
        "expanded_images, expanded_labels = expand_mnist_dataset(train_dataset)\n",
        "expanded_train_dataset = ExpandedMNISTDataset(expanded_images, expanded_labels, transform=transform)"
      ]
    },
    {
      "cell_type": "code",
      "execution_count": 296,
      "metadata": {},
      "outputs": [],
      "source": [
        "batch_size = 256"
      ]
    },
    {
      "cell_type": "code",
      "execution_count": 297,
      "metadata": {},
      "outputs": [],
      "source": [
        "train_loader = torch.utils.data.DataLoader(expanded_train_dataset, batch_size=batch_size, shuffle=True)\n",
        "val_loader = torch.utils.data.DataLoader(val_dataset, batch_size=batch_size, shuffle=False)\n",
        "test_loader = torch.utils.data.DataLoader(test_dataset, batch_size=batch_size, shuffle=False)"
      ]
    },
    {
      "cell_type": "code",
      "execution_count": 298,
      "metadata": {},
      "outputs": [
        {
          "name": "stdout",
          "output_type": "stream",
          "text": [
            "48000 240000\n"
          ]
        }
      ],
      "source": [
        "print(len(train_dataset), len(expanded_train_dataset))"
      ]
    },
    {
      "cell_type": "markdown",
      "metadata": {},
      "source": [
        "### CNN 3 (ReLU)\n"
      ]
    },
    {
      "cell_type": "code",
      "execution_count": 392,
      "metadata": {},
      "outputs": [],
      "source": [
        "class TwoConvTwoNNWithReLU(nn.Module):\n",
        "    def __init__(self, dropout_rate=0.):\n",
        "        super(TwoConvTwoNNWithReLU, self).__init__()\n",
        "        self.early_stopping = True\n",
        "        self.conv1 = nn.Conv2d(in_channels=1, out_channels=20, kernel_size=5, stride=1)\n",
        "        self.pool1 = nn.MaxPool2d(kernel_size=2, stride=2)\n",
        "        self.conv2 = nn.Conv2d(in_channels=20, out_channels=40, kernel_size=5, stride=1)\n",
        "        self.pool2 = nn.MaxPool2d(kernel_size=2, stride=2)\n",
        "        self.mlp = nn.Sequential(\n",
        "          nn.Linear(40*4*4, 100),\n",
        "          nn.BatchNorm1d(100),\n",
        "          nn.ReLU(),\n",
        "          nn.Dropout(dropout_rate),\n",
        "          nn.Linear(100, 100),\n",
        "          nn.BatchNorm1d(100),\n",
        "          nn.ReLU(),\n",
        "          nn.Dropout(dropout_rate),\n",
        "        )\n",
        "        self.fc_softmax = nn.Sequential(\n",
        "          nn.Linear(100, 10),\n",
        "          nn.BatchNorm1d(10)\n",
        "        )\n",
        "\n",
        "    def forward(self, x):\n",
        "        x = F.relu(self.pool1(self.conv1(x)))\n",
        "        x = F.relu(self.pool2(self.conv2(x)))\n",
        "        x = torch.flatten(x, 1)\n",
        "        x = self.mlp(x)\n",
        "        x = self.fc_softmax(x)\n",
        "        x = nn.functional.log_softmax(x, dim=1)\n",
        "        return x\n",
        "\n",
        "    def compile(self, learning_rate, weight_decay=0.0):\n",
        "      self.optimizer = optim.Adam(self.parameters(), lr=learning_rate)\n",
        "      self.criterion = nn.NLLLoss()\n",
        "\n",
        "    def fit(self, train_loader, num_epochs, val_loader = None, patience = None, delta = None):\n",
        "      if val_loader is not None and patience is not None and delta is not None:\n",
        "        print(f'Using early stopping with patience={patience} and delta={delta}')\n",
        "        self.early_stopping = EarlyStopping(patience, delta)\n",
        "\n",
        "      val_avg_losses = []\n",
        "      train_avg_losses = []\n",
        "      start_time = time.time()\n",
        "\n",
        "      for epoch in range(num_epochs):\n",
        "        # Calibrando os pesos do modelo\n",
        "        train_losses = []\n",
        "        self.train()\n",
        "        for batch_idx, (X, y) in enumerate(train_loader):\n",
        "          X, y = X.to(device), y.to(device)  # Move data to device\n",
        "          output = self.forward(X)\n",
        "\n",
        "          train_loss = self.criterion(output, y)  # Use defined criterion\n",
        "          self.optimizer.zero_grad()\n",
        "          train_loss.backward()\n",
        "          self.optimizer.step()\n",
        "          train_losses.append(train_loss.item())\n",
        "        train_avg_loss = np.mean(train_losses)\n",
        "        train_avg_losses.append(train_avg_loss)\n",
        "        print(f'Epoch#{epoch+1}: Train Average Loss = {train_avg_loss:.5f}')\n",
        "\n",
        "        # Mecanismo de early stopping\n",
        "        if self.early_stopping is not None:\n",
        "          val_losses = []\n",
        "          self.eval()\n",
        "          with torch.no_grad():\n",
        "            for batch_idx, (X, y) in enumerate(val_loader):\n",
        "              X, y = X.to(device), y.to(device)  # Move data to device\n",
        "              output = self.forward(X)\n",
        "              val_loss = self.criterion(output, y)\n",
        "              val_losses.append(val_loss.item())\n",
        "          val_avg_loss = np.mean(val_losses)\n",
        "          val_avg_losses.append(val_avg_loss)\n",
        "          self.early_stopping(val_avg_loss, self)\n",
        "          if self.early_stopping.early_stop:\n",
        "            print(f'Stopped by early stopping at epoch {epoch+1}')\n",
        "            break\n",
        "\n",
        "      if self.early_stopping is not None:\n",
        "        self = torch.load('checkpoint.pt')\n",
        "      self.eval()\n",
        "\n",
        "      end_time = time.time()\n",
        "      training_time = end_time - start_time\n",
        "      return train_avg_losses, val_avg_losses, training_time\n",
        "\n",
        "\n",
        "    def test(self, test_loader):\n",
        "      test_losses = []\n",
        "      test_loss = 0\n",
        "      correct = 0\n",
        "      with torch.no_grad():\n",
        "        for data, target in test_loader:\n",
        "          data, target = data.to(device), target.to(device)\n",
        "          output = self.forward(data)\n",
        "          test_loss += F.nll_loss(output, target, size_average=False).item()\n",
        "          pred = output.data.max(1, keepdim=True)[1]\n",
        "          correct += pred.eq(target.data.view_as(pred)).sum()\n",
        "      test_loss /= len(test_loader.dataset)\n",
        "      test_losses.append(test_loss)\n",
        "      acc = 100. * correct / len(test_loader.dataset)\n",
        "      print('\\nTest set: Avg. loss: {:.4f}, Accuracy: {}/{} ({:.2f}%)\\n'.format(\n",
        "        test_loss, correct, len(test_loader.dataset),\n",
        "        acc))\n",
        "      return test_loss, acc, test_losses"
      ]
    },
    {
      "cell_type": "code",
      "execution_count": 396,
      "metadata": {},
      "outputs": [],
      "source": [
        "input_size = train_dataset[0][0].shape[1] * train_dataset[0][0].shape[2]\n",
        "learning_rate = 0.03\n",
        "num_epochs = 60\n",
        "patience = 5\n",
        "delta = 0.001\n",
        "dropout_rate = 0."
      ]
    },
    {
      "cell_type": "code",
      "execution_count": 397,
      "metadata": {},
      "outputs": [],
      "source": [
        "# Create an instance of the neural network\n",
        "model_ccn_3_relu = TwoConvTwoNNWithReLU(dropout_rate).to(device)\n",
        "model_ccn_3_relu.compile(learning_rate=learning_rate)"
      ]
    },
    {
      "cell_type": "code",
      "execution_count": 398,
      "metadata": {},
      "outputs": [
        {
          "name": "stdout",
          "output_type": "stream",
          "text": [
            "Using early stopping with patience=5 and delta=0.001\n",
            "Epoch#1: Train Average Loss = 0.31439\n",
            "Validation loss decreased (inf --> 0.06944).  Saving model ...\n",
            "Epoch#2: Train Average Loss = 0.13740\n",
            "Validation loss decreased (0.06944 --> 0.06617).  Saving model ...\n",
            "Epoch#3: Train Average Loss = 0.10931\n",
            "Validation loss decreased (0.06617 --> 0.05462).  Saving model ...\n",
            "Epoch#4: Train Average Loss = 0.08056\n",
            "Validation loss decreased (0.05462 --> 0.04157).  Saving model ...\n",
            "Epoch#5: Train Average Loss = 0.06721\n",
            "EarlyStopping counter: 1 out of 5. Current validation loss: 0.07221\n",
            "Epoch#6: Train Average Loss = 0.06090\n",
            "EarlyStopping counter: 2 out of 5. Current validation loss: 0.05681\n",
            "Epoch#7: Train Average Loss = 0.05196\n",
            "EarlyStopping counter: 3 out of 5. Current validation loss: 0.05532\n",
            "Epoch#8: Train Average Loss = 0.04704\n",
            "EarlyStopping counter: 4 out of 5. Current validation loss: 0.04976\n",
            "Epoch#9: Train Average Loss = 0.04186\n",
            "Validation loss decreased (0.04157 --> 0.03966).  Saving model ...\n",
            "Epoch#10: Train Average Loss = 0.03819\n",
            "EarlyStopping counter: 1 out of 5. Current validation loss: 0.04906\n",
            "Epoch#11: Train Average Loss = 0.03694\n",
            "EarlyStopping counter: 2 out of 5. Current validation loss: 0.04373\n",
            "Epoch#12: Train Average Loss = 0.03540\n",
            "EarlyStopping counter: 3 out of 5. Current validation loss: 0.04492\n",
            "Epoch#13: Train Average Loss = 0.03164\n",
            "EarlyStopping counter: 4 out of 5. Current validation loss: 0.04787\n",
            "Epoch#14: Train Average Loss = 0.02935\n",
            "EarlyStopping counter: 5 out of 5. Current validation loss: 0.04056\n",
            "Stopped by early stopping at epoch 14\n"
          ]
        }
      ],
      "source": [
        "train_avg_losses_3_relu, val_avg_losses_3_relu, training_time_3_relu = model_ccn_3_relu.fit(train_loader, num_epochs, val_loader, patience, delta)"
      ]
    },
    {
      "cell_type": "code",
      "execution_count": 399,
      "metadata": {},
      "outputs": [
        {
          "data": {
            "image/png": "[encoded data removed]",
            "text/plain": [
              "<Figure size 640x480 with 1 Axes>"
            ]
          },
          "metadata": {},
          "output_type": "display_data"
        }
      ],
      "source": [
        "plot_train_val_losses(train_avg_losses_3_relu, val_avg_losses_3_relu)"
      ]
    },
    {
      "cell_type": "code",
      "execution_count": 400,
      "metadata": {},
      "outputs": [
        {
          "data": {
            "text/plain": [
              "{'acc': 0.9896,\n",
              " 'tpr': 0.9896,\n",
              " 'precision': 0.9896649746357283,\n",
              " 'f1-score': 0.9896070587801477,\n",
              " 'y_true': array([7, 2, 1, ..., 4, 5, 6]),\n",
              " 'y_pred': array([7, 2, 1, ..., 4, 5, 6]),\n",
              " 'loss': 0.0035745509097025205}"
            ]
          },
          "execution_count": 400,
          "metadata": {},
          "output_type": "execute_result"
        }
      ],
      "source": [
        "cnn_3_metrics = test_and_get_metrics(model_ccn_3_relu, test_loader, device)\n",
        "\n",
        "results.append({\n",
        "    'model': 'model_ccn_3_relu',\n",
        "    'train_avg_losses': train_avg_losses_3_relu,\n",
        "    'val_avg_losses': val_avg_losses_3_relu,\n",
        "    'training_time': training_time_3_relu,\n",
        "    'learning_rate': learning_rate,\n",
        "    'dropout_rate': dropout_rate,\n",
        "    'acc':cnn_3_metrics['acc'],\n",
        "    'tpr':cnn_3_metrics['tpr'],\n",
        "    'precision':cnn_3_metrics['precision'],\n",
        "    'f1-score':cnn_3_metrics['f1-score'],\n",
        "    'y_true':cnn_3_metrics['y_true'],\n",
        "    'y_pred':cnn_3_metrics['y_pred'],\n",
        "    'loss':cnn_3_metrics['loss'],\n",
        "})\n",
        "\n",
        "cnn_3_metrics"
      ]
    },
    {
      "cell_type": "code",
      "execution_count": 401,
      "metadata": {},
      "outputs": [
        {
          "data": {
            "image/png": "[encoded data removed]",
            "text/plain": [
              "<Figure size 1000x800 with 2 Axes>"
            ]
          },
          "metadata": {},
          "output_type": "display_data"
        }
      ],
      "source": [
        "y_true = np.array(cnn_3_metrics['y_true'])\n",
        "y_pred = np.array(cnn_3_metrics['y_pred'])\n",
        "\n",
        "accuracy = cnn_3_metrics['acc']\n",
        "precision = cnn_3_metrics['precision']\n",
        "recall = cnn_3_metrics['tpr']\n",
        "\n",
        "plot_accuracy_per_label(y_true, y_pred, output_size=10)"
      ]
    },
    {
      "cell_type": "code",
      "execution_count": 402,
      "metadata": {},
      "outputs": [
        {
          "data": {
            "text/plain": [
              "479.27935695648193"
            ]
          },
          "execution_count": 402,
          "metadata": {},
          "output_type": "execute_result"
        }
      ],
      "source": [
        "training_time_3_relu"
      ]
    },
    {
      "cell_type": "markdown",
      "metadata": {},
      "source": [
        "Finalmente, ao adicionar mais uma camada MLP, a acurácia aumentou em 0.14 ponto percentual, mas o tempo de treinamento também aumentou para 18 minutos. Isso mostra que, embora a adição de camadas possa melhorar a precisão, ela também pode resultar em um tempo de treinamento significativamente maior, enfatizando novamente o trade-off entre a precisão e a eficiência do modelo."
      ]
    },
    {
      "cell_type": "markdown",
      "metadata": {},
      "source": [
        "#### Camparativos\n"
      ]
    },
    {
      "cell_type": "code",
      "execution_count": 403,
      "metadata": {},
      "outputs": [],
      "source": [
        "df_results = pd.DataFrame(results)"
      ]
    },
    {
      "cell_type": "code",
      "execution_count": 404,
      "metadata": {},
      "outputs": [],
      "source": [
        "df_results.to_csv('results.csv', index=False)"
      ]
    },
    {
      "cell_type": "code",
      "execution_count": 405,
      "metadata": {},
      "outputs": [
        {
          "data": {
            "text/html": [
              "<div>\n",
              "<style scoped>\n",
              "    .dataframe tbody tr th:only-of-type {\n",
              "        vertical-align: middle;\n",
              "    }\n",
              "\n",
              "    .dataframe tbody tr th {\n",
              "        vertical-align: top;\n",
              "    }\n",
              "\n",
              "    .dataframe thead th {\n",
              "        text-align: right;\n",
              "    }\n",
              "</style>\n",
              "<table border=\"1\" class=\"dataframe\">\n",
              "  <thead>\n",
              "    <tr style=\"text-align: right;\">\n",
              "      <th></th>\n",
              "      <th>model</th>\n",
              "      <th>train_avg_losses</th>\n",
              "      <th>val_avg_losses</th>\n",
              "      <th>training_time</th>\n",
              "      <th>learning_rate</th>\n",
              "      <th>dropout_rate</th>\n",
              "      <th>acc</th>\n",
              "      <th>tpr</th>\n",
              "      <th>precision</th>\n",
              "      <th>f1-score</th>\n",
              "      <th>y_true</th>\n",
              "      <th>y_pred</th>\n",
              "      <th>loss</th>\n",
              "    </tr>\n",
              "  </thead>\n",
              "  <tbody>\n",
              "    <tr>\n",
              "      <th>0</th>\n",
              "      <td>mlp_model</td>\n",
              "      <td>[2.0052432303733014, 1.3290793730857524, 0.915...</td>\n",
              "      <td>[1.6568751994599686, 1.0792952179908752, 0.799...</td>\n",
              "      <td>290.080246</td>\n",
              "      <td>0.0300</td>\n",
              "      <td>0.0</td>\n",
              "      <td>0.9397</td>\n",
              "      <td>0.9397</td>\n",
              "      <td>0.939691</td>\n",
              "      <td>0.939570</td>\n",
              "      <td>[7, 2, 1, 0, 4, 1, 4, 9, 5, 9, 0, 6, 9, 0, 1, ...</td>\n",
              "      <td>[7, 2, 1, 0, 4, 1, 4, 9, 6, 9, 0, 6, 9, 0, 1, ...</td>\n",
              "      <td>0.000829</td>\n",
              "    </tr>\n",
              "    <tr>\n",
              "      <th>1</th>\n",
              "      <td>model_ccn_1</td>\n",
              "      <td>[2.2763319687640413, 2.1690899869228932, 1.822...</td>\n",
              "      <td>[2.244567450056685, 2.0573253327227654, 1.5535...</td>\n",
              "      <td>636.677289</td>\n",
              "      <td>0.0300</td>\n",
              "      <td>0.0</td>\n",
              "      <td>0.9504</td>\n",
              "      <td>0.9504</td>\n",
              "      <td>0.950585</td>\n",
              "      <td>0.950335</td>\n",
              "      <td>[7, 2, 1, 0, 4, 1, 4, 9, 5, 9, 0, 6, 9, 0, 1, ...</td>\n",
              "      <td>[7, 2, 1, 0, 4, 1, 4, 9, 6, 9, 0, 6, 9, 0, 1, ...</td>\n",
              "      <td>0.000687</td>\n",
              "    </tr>\n",
              "    <tr>\n",
              "      <th>2</th>\n",
              "      <td>model_ccn_2</td>\n",
              "      <td>[2.3034208011119923, 2.3011076526438936, 2.300...</td>\n",
              "      <td>[2.302575654171883, 2.302462248092002, 2.30212...</td>\n",
              "      <td>1232.541428</td>\n",
              "      <td>0.0300</td>\n",
              "      <td>0.0</td>\n",
              "      <td>0.9528</td>\n",
              "      <td>0.9528</td>\n",
              "      <td>0.952862</td>\n",
              "      <td>0.952748</td>\n",
              "      <td>[7, 2, 1, 0, 4, 1, 4, 9, 5, 9, 0, 6, 9, 0, 1, ...</td>\n",
              "      <td>[7, 2, 1, 0, 4, 1, 4, 9, 5, 9, 0, 6, 9, 0, 1, ...</td>\n",
              "      <td>0.000623</td>\n",
              "    </tr>\n",
              "    <tr>\n",
              "      <th>3</th>\n",
              "      <td>model_ccn_2_tanh</td>\n",
              "      <td>[1.2570741011741313, 0.400661309348776, 0.2673...</td>\n",
              "      <td>[0.5448184958163728, 0.3192044642377407, 0.237...</td>\n",
              "      <td>1584.553170</td>\n",
              "      <td>0.0300</td>\n",
              "      <td>0.0</td>\n",
              "      <td>0.9890</td>\n",
              "      <td>0.9890</td>\n",
              "      <td>0.989009</td>\n",
              "      <td>0.988995</td>\n",
              "      <td>[7, 2, 1, 0, 4, 1, 4, 9, 5, 9, 0, 6, 9, 0, 1, ...</td>\n",
              "      <td>[7, 2, 1, 0, 4, 1, 4, 9, 5, 9, 0, 6, 9, 0, 1, ...</td>\n",
              "      <td>0.000128</td>\n",
              "    </tr>\n",
              "    <tr>\n",
              "      <th>4</th>\n",
              "      <td>model_ccn_2_relu</td>\n",
              "      <td>[2.3130850715840117, 2.3036965461487466, 2.295...</td>\n",
              "      <td>[2.30612084713388, 2.2977310190809535, 2.28999...</td>\n",
              "      <td>1567.725684</td>\n",
              "      <td>0.0005</td>\n",
              "      <td>0.0</td>\n",
              "      <td>0.8982</td>\n",
              "      <td>0.8982</td>\n",
              "      <td>0.897925</td>\n",
              "      <td>0.897891</td>\n",
              "      <td>[7, 2, 1, 0, 4, 1, 4, 9, 5, 9, 0, 6, 9, 0, 1, ...</td>\n",
              "      <td>[7, 2, 1, 0, 4, 1, 4, 9, 2, 9, 0, 6, 9, 0, 1, ...</td>\n",
              "      <td>0.001390</td>\n",
              "    </tr>\n",
              "    <tr>\n",
              "      <th>5</th>\n",
              "      <td>model_ccn_2_relu</td>\n",
              "      <td>[0.29220656094266406, 0.10401512350418421, 0.0...</td>\n",
              "      <td>[1.223096122132971, 0.43032390323091063, 0.314...</td>\n",
              "      <td>4878.394298</td>\n",
              "      <td>0.0005</td>\n",
              "      <td>0.0</td>\n",
              "      <td>0.9195</td>\n",
              "      <td>0.9195</td>\n",
              "      <td>0.933971</td>\n",
              "      <td>0.920112</td>\n",
              "      <td>[7, 2, 1, 0, 4, 1, 4, 9, 5, 9, 0, 6, 9, 0, 1, ...</td>\n",
              "      <td>[7, 2, 1, 0, 4, 1, 4, 9, 5, 9, 0, 6, 9, 0, 1, ...</td>\n",
              "      <td>0.001185</td>\n",
              "    </tr>\n",
              "    <tr>\n",
              "      <th>6</th>\n",
              "      <td>model_ccn_3_relu</td>\n",
              "      <td>[0.29220656094266406, 0.10401512350418421, 0.0...</td>\n",
              "      <td>[1.223096122132971, 0.43032390323091063, 0.314...</td>\n",
              "      <td>4878.394298</td>\n",
              "      <td>0.0005</td>\n",
              "      <td>0.0</td>\n",
              "      <td>0.9195</td>\n",
              "      <td>0.9195</td>\n",
              "      <td>0.933971</td>\n",
              "      <td>0.920112</td>\n",
              "      <td>[7, 2, 1, 0, 4, 1, 4, 9, 5, 9, 0, 6, 9, 0, 1, ...</td>\n",
              "      <td>[7, 2, 1, 0, 4, 1, 4, 9, 5, 9, 0, 6, 9, 0, 1, ...</td>\n",
              "      <td>0.001185</td>\n",
              "    </tr>\n",
              "    <tr>\n",
              "      <th>7</th>\n",
              "      <td>mlp_model</td>\n",
              "      <td>[0.5366471463888107, 0.27761141340267687, 0.22...</td>\n",
              "      <td>[0.3052345858033126, 0.2459034265523466, 0.224...</td>\n",
              "      <td>506.316585</td>\n",
              "      <td>0.0300</td>\n",
              "      <td>0.0</td>\n",
              "      <td>0.9784</td>\n",
              "      <td>0.9784</td>\n",
              "      <td>0.978411</td>\n",
              "      <td>0.978397</td>\n",
              "      <td>[7, 2, 1, 0, 4, 1, 4, 9, 5, 9, 0, 6, 9, 0, 1, ...</td>\n",
              "      <td>[7, 2, 1, 0, 4, 1, 4, 9, 6, 9, 0, 6, 9, 0, 1, ...</td>\n",
              "      <td>0.007186</td>\n",
              "    </tr>\n",
              "    <tr>\n",
              "      <th>8</th>\n",
              "      <td>model_ccn_1</td>\n",
              "      <td>[0.1340724692882456, 0.11033780303793415, 0.09...</td>\n",
              "      <td>[0.12184174619110612, 0.10504414254974108, 0.0...</td>\n",
              "      <td>502.469716</td>\n",
              "      <td>0.0300</td>\n",
              "      <td>0.0</td>\n",
              "      <td>0.9865</td>\n",
              "      <td>0.9865</td>\n",
              "      <td>0.986550</td>\n",
              "      <td>0.986502</td>\n",
              "      <td>[7, 2, 1, 0, 4, 1, 4, 9, 5, 9, 0, 6, 9, 0, 1, ...</td>\n",
              "      <td>[7, 2, 1, 0, 4, 1, 4, 9, 5, 9, 0, 6, 9, 0, 1, ...</td>\n",
              "      <td>0.004126</td>\n",
              "    </tr>\n",
              "    <tr>\n",
              "      <th>9</th>\n",
              "      <td>model_ccn_2</td>\n",
              "      <td>[1.961160781107222, 0.3493140129219197, 0.1770...</td>\n",
              "      <td>[0.6376968122770389, 0.21321535075626646, 0.14...</td>\n",
              "      <td>720.113255</td>\n",
              "      <td>0.0300</td>\n",
              "      <td>0.0</td>\n",
              "      <td>0.9890</td>\n",
              "      <td>0.9890</td>\n",
              "      <td>0.989030</td>\n",
              "      <td>0.988999</td>\n",
              "      <td>[7, 2, 1, 0, 4, 1, 4, 9, 5, 9, 0, 6, 9, 0, 1, ...</td>\n",
              "      <td>[7, 2, 1, 0, 4, 1, 4, 9, 5, 9, 0, 6, 9, 0, 1, ...</td>\n",
              "      <td>0.003027</td>\n",
              "    </tr>\n",
              "  </tbody>\n",
              "</table>\n",
              "</div>"
            ],
            "text/plain": [
              "              model                                   train_avg_losses  \\\n",
              "0         mlp_model  [2.0052432303733014, 1.3290793730857524, 0.915...   \n",
              "1       model_ccn_1  [2.2763319687640413, 2.1690899869228932, 1.822...   \n",
              "2       model_ccn_2  [2.3034208011119923, 2.3011076526438936, 2.300...   \n",
              "3  model_ccn_2_tanh  [1.2570741011741313, 0.400661309348776, 0.2673...   \n",
              "4  model_ccn_2_relu  [2.3130850715840117, 2.3036965461487466, 2.295...   \n",
              "5  model_ccn_2_relu  [0.29220656094266406, 0.10401512350418421, 0.0...   \n",
              "6  model_ccn_3_relu  [0.29220656094266406, 0.10401512350418421, 0.0...   \n",
              "7         mlp_model  [0.5366471463888107, 0.27761141340267687, 0.22...   \n",
              "8       model_ccn_1  [0.1340724692882456, 0.11033780303793415, 0.09...   \n",
              "9       model_ccn_2  [1.961160781107222, 0.3493140129219197, 0.1770...   \n",
              "\n",
              "                                      val_avg_losses  training_time  \\\n",
              "0  [1.6568751994599686, 1.0792952179908752, 0.799...     290.080246   \n",
              "1  [2.244567450056685, 2.0573253327227654, 1.5535...     636.677289   \n",
              "2  [2.302575654171883, 2.302462248092002, 2.30212...    1232.541428   \n",
              "3  [0.5448184958163728, 0.3192044642377407, 0.237...    1584.553170   \n",
              "4  [2.30612084713388, 2.2977310190809535, 2.28999...    1567.725684   \n",
              "5  [1.223096122132971, 0.43032390323091063, 0.314...    4878.394298   \n",
              "6  [1.223096122132971, 0.43032390323091063, 0.314...    4878.394298   \n",
              "7  [0.3052345858033126, 0.2459034265523466, 0.224...     506.316585   \n",
              "8  [0.12184174619110612, 0.10504414254974108, 0.0...     502.469716   \n",
              "9  [0.6376968122770389, 0.21321535075626646, 0.14...     720.113255   \n",
              "\n",
              "   learning_rate  dropout_rate     acc     tpr  precision  f1-score  \\\n",
              "0         0.0300           0.0  0.9397  0.9397   0.939691  0.939570   \n",
              "1         0.0300           0.0  0.9504  0.9504   0.950585  0.950335   \n",
              "2         0.0300           0.0  0.9528  0.9528   0.952862  0.952748   \n",
              "3         0.0300           0.0  0.9890  0.9890   0.989009  0.988995   \n",
              "4         0.0005           0.0  0.8982  0.8982   0.897925  0.897891   \n",
              "5         0.0005           0.0  0.9195  0.9195   0.933971  0.920112   \n",
              "6         0.0005           0.0  0.9195  0.9195   0.933971  0.920112   \n",
              "7         0.0300           0.0  0.9784  0.9784   0.978411  0.978397   \n",
              "8         0.0300           0.0  0.9865  0.9865   0.986550  0.986502   \n",
              "9         0.0300           0.0  0.9890  0.9890   0.989030  0.988999   \n",
              "\n",
              "                                              y_true  \\\n",
              "0  [7, 2, 1, 0, 4, 1, 4, 9, 5, 9, 0, 6, 9, 0, 1, ...   \n",
              "1  [7, 2, 1, 0, 4, 1, 4, 9, 5, 9, 0, 6, 9, 0, 1, ...   \n",
              "2  [7, 2, 1, 0, 4, 1, 4, 9, 5, 9, 0, 6, 9, 0, 1, ...   \n",
              "3  [7, 2, 1, 0, 4, 1, 4, 9, 5, 9, 0, 6, 9, 0, 1, ...   \n",
              "4  [7, 2, 1, 0, 4, 1, 4, 9, 5, 9, 0, 6, 9, 0, 1, ...   \n",
              "5  [7, 2, 1, 0, 4, 1, 4, 9, 5, 9, 0, 6, 9, 0, 1, ...   \n",
              "6  [7, 2, 1, 0, 4, 1, 4, 9, 5, 9, 0, 6, 9, 0, 1, ...   \n",
              "7  [7, 2, 1, 0, 4, 1, 4, 9, 5, 9, 0, 6, 9, 0, 1, ...   \n",
              "8  [7, 2, 1, 0, 4, 1, 4, 9, 5, 9, 0, 6, 9, 0, 1, ...   \n",
              "9  [7, 2, 1, 0, 4, 1, 4, 9, 5, 9, 0, 6, 9, 0, 1, ...   \n",
              "\n",
              "                                              y_pred      loss  \n",
              "0  [7, 2, 1, 0, 4, 1, 4, 9, 6, 9, 0, 6, 9, 0, 1, ...  0.000829  \n",
              "1  [7, 2, 1, 0, 4, 1, 4, 9, 6, 9, 0, 6, 9, 0, 1, ...  0.000687  \n",
              "2  [7, 2, 1, 0, 4, 1, 4, 9, 5, 9, 0, 6, 9, 0, 1, ...  0.000623  \n",
              "3  [7, 2, 1, 0, 4, 1, 4, 9, 5, 9, 0, 6, 9, 0, 1, ...  0.000128  \n",
              "4  [7, 2, 1, 0, 4, 1, 4, 9, 2, 9, 0, 6, 9, 0, 1, ...  0.001390  \n",
              "5  [7, 2, 1, 0, 4, 1, 4, 9, 5, 9, 0, 6, 9, 0, 1, ...  0.001185  \n",
              "6  [7, 2, 1, 0, 4, 1, 4, 9, 5, 9, 0, 6, 9, 0, 1, ...  0.001185  \n",
              "7  [7, 2, 1, 0, 4, 1, 4, 9, 6, 9, 0, 6, 9, 0, 1, ...  0.007186  \n",
              "8  [7, 2, 1, 0, 4, 1, 4, 9, 5, 9, 0, 6, 9, 0, 1, ...  0.004126  \n",
              "9  [7, 2, 1, 0, 4, 1, 4, 9, 5, 9, 0, 6, 9, 0, 1, ...  0.003027  "
            ]
          },
          "execution_count": 405,
          "metadata": {},
          "output_type": "execute_result"
        }
      ],
      "source": [
        "df_results.head(10)"
      ]
    },
    {
      "cell_type": "code",
      "execution_count": 406,
      "metadata": {},
      "outputs": [],
      "source": [
        "df_results['training_time'] = df_results['training_time'] / 60"
      ]
    },
    {
      "cell_type": "code",
      "execution_count": 407,
      "metadata": {},
      "outputs": [],
      "source": [
        "idx = df_results.groupby('model')['acc'].idxmax()\n",
        "df_best_models = df_results.loc[idx].sort_values(by='acc', ascending=False)"
      ]
    },
    {
      "cell_type": "code",
      "execution_count": 408,
      "metadata": {},
      "outputs": [
        {
          "data": {
            "text/html": [
              "<div>\n",
              "<style scoped>\n",
              "    .dataframe tbody tr th:only-of-type {\n",
              "        vertical-align: middle;\n",
              "    }\n",
              "\n",
              "    .dataframe tbody tr th {\n",
              "        vertical-align: top;\n",
              "    }\n",
              "\n",
              "    .dataframe thead th {\n",
              "        text-align: right;\n",
              "    }\n",
              "</style>\n",
              "<table border=\"1\" class=\"dataframe\">\n",
              "  <thead>\n",
              "    <tr style=\"text-align: right;\">\n",
              "      <th></th>\n",
              "      <th>model</th>\n",
              "      <th>training_time</th>\n",
              "      <th>learning_rate</th>\n",
              "      <th>dropout_rate</th>\n",
              "      <th>precision</th>\n",
              "      <th>loss</th>\n",
              "    </tr>\n",
              "  </thead>\n",
              "  <tbody>\n",
              "    <tr>\n",
              "      <th>10</th>\n",
              "      <td>model_ccn_2_tanh</td>\n",
              "      <td>6.010030</td>\n",
              "      <td>0.03</td>\n",
              "      <td>0.0</td>\n",
              "      <td>0.991311</td>\n",
              "      <td>0.002778</td>\n",
              "    </tr>\n",
              "    <tr>\n",
              "      <th>11</th>\n",
              "      <td>model_ccn_2_relu</td>\n",
              "      <td>3.621776</td>\n",
              "      <td>0.03</td>\n",
              "      <td>0.0</td>\n",
              "      <td>0.990069</td>\n",
              "      <td>0.002732</td>\n",
              "    </tr>\n",
              "    <tr>\n",
              "      <th>12</th>\n",
              "      <td>model_ccn_3_relu</td>\n",
              "      <td>7.987989</td>\n",
              "      <td>0.03</td>\n",
              "      <td>0.0</td>\n",
              "      <td>0.989665</td>\n",
              "      <td>0.003575</td>\n",
              "    </tr>\n",
              "    <tr>\n",
              "      <th>9</th>\n",
              "      <td>model_ccn_2</td>\n",
              "      <td>12.001888</td>\n",
              "      <td>0.03</td>\n",
              "      <td>0.0</td>\n",
              "      <td>0.989030</td>\n",
              "      <td>0.003027</td>\n",
              "    </tr>\n",
              "    <tr>\n",
              "      <th>8</th>\n",
              "      <td>model_ccn_1</td>\n",
              "      <td>8.374495</td>\n",
              "      <td>0.03</td>\n",
              "      <td>0.0</td>\n",
              "      <td>0.986550</td>\n",
              "      <td>0.004126</td>\n",
              "    </tr>\n",
              "    <tr>\n",
              "      <th>7</th>\n",
              "      <td>mlp_model</td>\n",
              "      <td>8.438610</td>\n",
              "      <td>0.03</td>\n",
              "      <td>0.0</td>\n",
              "      <td>0.978411</td>\n",
              "      <td>0.007186</td>\n",
              "    </tr>\n",
              "  </tbody>\n",
              "</table>\n",
              "</div>"
            ],
            "text/plain": [
              "               model  training_time  learning_rate  dropout_rate  precision  \\\n",
              "10  model_ccn_2_tanh       6.010030           0.03           0.0   0.991311   \n",
              "11  model_ccn_2_relu       3.621776           0.03           0.0   0.990069   \n",
              "12  model_ccn_3_relu       7.987989           0.03           0.0   0.989665   \n",
              "9        model_ccn_2      12.001888           0.03           0.0   0.989030   \n",
              "8        model_ccn_1       8.374495           0.03           0.0   0.986550   \n",
              "7          mlp_model       8.438610           0.03           0.0   0.978411   \n",
              "\n",
              "        loss  \n",
              "10  0.002778  \n",
              "11  0.002732  \n",
              "12  0.003575  \n",
              "9   0.003027  \n",
              "8   0.004126  \n",
              "7   0.007186  "
            ]
          },
          "execution_count": 408,
          "metadata": {},
          "output_type": "execute_result"
        }
      ],
      "source": [
        "df_best_models[['model', 'training_time', 'learning_rate', 'dropout_rate', 'precision', 'loss']]"
      ]
    },
    {
      "cell_type": "code",
      "execution_count": 409,
      "metadata": {},
      "outputs": [
        {
          "name": "stderr",
          "output_type": "stream",
          "text": [
            "/var/folders/fs/f8qz96w55l1cqqbyb70x11380000gn/T/ipykernel_89513/958463046.py:3: FutureWarning: \n",
            "\n",
            "Passing `palette` without assigning `hue` is deprecated and will be removed in v0.14.0. Assign the `x` variable to `hue` and set `legend=False` for the same effect.\n",
            "\n",
            "  ax = sns.barplot(x='model', y='acc', data=df_best_models, palette='viridis')\n"
          ]
        },
        {
          "data": {
            "image/png": "[encoded data removed]",
            "text/plain": [
              "<Figure size 1000x600 with 1 Axes>"
            ]
          },
          "metadata": {},
          "output_type": "display_data"
        }
      ],
      "source": [
        "# Create the bar chart with seaborn\n",
        "plt.figure(figsize=(10, 6))\n",
        "ax = sns.barplot(x='model', y='acc', data=df_best_models, palette='viridis')\n",
        "\n",
        "# Add titles and labels\n",
        "plt.xlabel('Model Name')\n",
        "plt.ylabel('Accuracy')\n",
        "plt.title('Model Accuracy Comparison')\n",
        "\n",
        "plt.xticks(rotation=45)\n",
        "\n",
        "# Add accuracy values on top of the bars\n",
        "for p in ax.patches:\n",
        "    ax.annotate(f'{(p.get_height()*100):.2f}', \n",
        "                (p.get_x() + p.get_width() / 2., p.get_height()), \n",
        "                ha='center', va='center', \n",
        "                xytext=(0, 9), \n",
        "                textcoords='offset points')\n",
        "\n",
        "# Show the plot\n",
        "plt.show()"
      ]
    },
    {
      "cell_type": "markdown",
      "metadata": {},
      "source": [
        "O gráfico mostra a maior acurácia de cada arquitetura criada. O modelo com a função de ativação Tanh se destacou."
      ]
    },
    {
      "cell_type": "code",
      "execution_count": 414,
      "metadata": {},
      "outputs": [
        {
          "name": "stderr",
          "output_type": "stream",
          "text": [
            "/var/folders/fs/f8qz96w55l1cqqbyb70x11380000gn/T/ipykernel_89513/1056795789.py:2: FutureWarning: \n",
            "\n",
            "Passing `palette` without assigning `hue` is deprecated and will be removed in v0.14.0. Assign the `x` variable to `hue` and set `legend=False` for the same effect.\n",
            "\n",
            "  ax = sns.boxplot(x='model', y='acc', data=df_results, palette='viridis')\n"
          ]
        },
        {
          "data": {
            "image/png": "[encoded data removed]",
            "text/plain": [
              "<Figure size 1000x600 with 1 Axes>"
            ]
          },
          "metadata": {},
          "output_type": "display_data"
        }
      ],
      "source": [
        "plt.figure(figsize=(10, 6))\n",
        "ax = sns.boxplot(x='model', y='acc', data=df_results, palette='viridis')\n",
        "\n",
        "plt.xlabel('Model Name')\n",
        "plt.ylabel('Accuracy')\n",
        "plt.title('Model Accuracy Comparison')\n",
        "\n",
        "plt.xticks(rotation=45)\n",
        "\n",
        "plt.show()"
      ]
    },
    {
      "cell_type": "markdown",
      "metadata": {},
      "source": [
        "Entre a média dos testes de cada modelo, ainda o Tanh se mostrou sempre se adaptar bem aos dados."
      ]
    },
    {
      "cell_type": "code",
      "execution_count": 412,
      "metadata": {},
      "outputs": [
        {
          "name": "stderr",
          "output_type": "stream",
          "text": [
            "/var/folders/fs/f8qz96w55l1cqqbyb70x11380000gn/T/ipykernel_89513/3003280060.py:3: FutureWarning: \n",
            "\n",
            "Passing `palette` without assigning `hue` is deprecated and will be removed in v0.14.0. Assign the `x` variable to `hue` and set `legend=False` for the same effect.\n",
            "\n",
            "  ax = sns.boxplot(x='model', y='training_time', data=df_results, palette='viridis')\n"
          ]
        },
        {
          "data": {
            "image/png": "[encoded data removed]",
            "text/plain": [
              "<Figure size 1000x600 with 1 Axes>"
            ]
          },
          "metadata": {},
          "output_type": "display_data"
        }
      ],
      "source": [
        "plt.figure(figsize=(10, 6))\n",
        "ax = sns.boxplot(x='model', y='training_time', data=df_results, palette='viridis')\n",
        "\n",
        "plt.xlabel('Model Name')\n",
        "plt.ylabel('TIme')\n",
        "plt.title('Model Accuracy Comparison')\n",
        "\n",
        "plt.xticks(rotation=45)\n",
        "\n",
        "plt.show()"
      ]
    },
    {
      "cell_type": "markdown",
      "metadata": {},
      "source": [
        "Com relação ao tempo de treinamento, como previsto quanto maior a arquitetura maior o tempo necessário."
      ]
    }
  ],
  "metadata": {
    "accelerator": "TPU",
    "colab": {
      "gpuType": "V28",
      "provenance": []
    },
    "kernelspec": {
      "display_name": "Python 3",
      "name": "python3"
    },
    "language_info": {
      "codemirror_mode": {
        "name": "ipython",
        "version": 3
      },
      "file_extension": ".py",
      "mimetype": "text/x-python",
      "name": "python",
      "nbconvert_exporter": "python",
      "pygments_lexer": "ipython3",
      "version": "3.9.6"
    }
  },
  "nbformat": 4,
  "nbformat_minor": 0
}
